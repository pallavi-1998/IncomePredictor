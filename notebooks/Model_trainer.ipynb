{
 "cells": [
  {
   "attachments": {},
   "cell_type": "markdown",
   "metadata": {},
   "source": [
    "### **Importing libraries**"
   ]
  },
  {
   "cell_type": "code",
   "execution_count": 117,
   "metadata": {},
   "outputs": [],
   "source": [
    "import pandas as pd\n",
    "from sklearn.preprocessing import LabelEncoder\n",
    "from sklearn.model_selection import train_test_split\n",
    "\n",
    "from sklearn.preprocessing import StandardScaler\n",
    "\n",
    "from sklearn.linear_model import LogisticRegression\n",
    "from sklearn.tree import DecisionTreeClassifier\n",
    "from sklearn.naive_bayes import GaussianNB\n",
    "from sklearn.svm import SVC\n",
    "from sklearn.neighbors import KNeighborsClassifier\n",
    "\n",
    "## ensemble models\n",
    "from sklearn.ensemble import RandomForestClassifier, AdaBoostClassifier, GradientBoostingClassifier\n",
    "\n",
    "from sklearn.metrics import accuracy_score, classification_report, confusion_matrix\n",
    "\n",
    "### cross validation, Hypertuning params\n",
    "from sklearn.model_selection import cross_val_score, GridSearchCV\n",
    "\n",
    "\n",
    "import warnings\n",
    "warnings.filterwarnings(\"ignore\")"
   ]
  },
  {
   "cell_type": "code",
   "execution_count": 125,
   "metadata": {},
   "outputs": [],
   "source": [
    "df = pd.read_csv(\"d:\\\\IncomePredictor\\\\notebooks\\\\data\\\\adult_ini.csv\")"
   ]
  },
  {
   "cell_type": "code",
   "execution_count": 126,
   "metadata": {},
   "outputs": [
    {
     "data": {
      "text/html": [
       "<div>\n",
       "<style scoped>\n",
       "    .dataframe tbody tr th:only-of-type {\n",
       "        vertical-align: middle;\n",
       "    }\n",
       "\n",
       "    .dataframe tbody tr th {\n",
       "        vertical-align: top;\n",
       "    }\n",
       "\n",
       "    .dataframe thead th {\n",
       "        text-align: right;\n",
       "    }\n",
       "</style>\n",
       "<table border=\"1\" class=\"dataframe\">\n",
       "  <thead>\n",
       "    <tr style=\"text-align: right;\">\n",
       "      <th></th>\n",
       "      <th>age</th>\n",
       "      <th>workclass</th>\n",
       "      <th>fnlwgt</th>\n",
       "      <th>education</th>\n",
       "      <th>education_num</th>\n",
       "      <th>marital_status</th>\n",
       "      <th>occupation</th>\n",
       "      <th>relationship</th>\n",
       "      <th>race</th>\n",
       "      <th>sex</th>\n",
       "      <th>capital_gain</th>\n",
       "      <th>capital_loss</th>\n",
       "      <th>hours_per_week</th>\n",
       "      <th>native_country</th>\n",
       "      <th>income</th>\n",
       "    </tr>\n",
       "  </thead>\n",
       "  <tbody>\n",
       "    <tr>\n",
       "      <th>0</th>\n",
       "      <td>39</td>\n",
       "      <td>Gov</td>\n",
       "      <td>278.416954</td>\n",
       "      <td>Bachelors</td>\n",
       "      <td>13</td>\n",
       "      <td>Never-married</td>\n",
       "      <td>Adm-clerical</td>\n",
       "      <td>Other</td>\n",
       "      <td>White</td>\n",
       "      <td>Male</td>\n",
       "      <td>2.348587</td>\n",
       "      <td>0.0</td>\n",
       "      <td>40</td>\n",
       "      <td>United-States</td>\n",
       "      <td>0</td>\n",
       "    </tr>\n",
       "    <tr>\n",
       "      <th>1</th>\n",
       "      <td>50</td>\n",
       "      <td>Private</td>\n",
       "      <td>288.636450</td>\n",
       "      <td>Bachelors</td>\n",
       "      <td>13</td>\n",
       "      <td>Married-civ-spouse</td>\n",
       "      <td>Exec-managerial</td>\n",
       "      <td>Husband</td>\n",
       "      <td>White</td>\n",
       "      <td>Male</td>\n",
       "      <td>0.000000</td>\n",
       "      <td>0.0</td>\n",
       "      <td>13</td>\n",
       "      <td>United-States</td>\n",
       "      <td>0</td>\n",
       "    </tr>\n",
       "    <tr>\n",
       "      <th>2</th>\n",
       "      <td>38</td>\n",
       "      <td>Private</td>\n",
       "      <td>464.377002</td>\n",
       "      <td>College</td>\n",
       "      <td>9</td>\n",
       "      <td>No spouse</td>\n",
       "      <td>Handlers-cleaners</td>\n",
       "      <td>Other</td>\n",
       "      <td>White</td>\n",
       "      <td>Male</td>\n",
       "      <td>0.000000</td>\n",
       "      <td>0.0</td>\n",
       "      <td>40</td>\n",
       "      <td>United-States</td>\n",
       "      <td>0</td>\n",
       "    </tr>\n",
       "  </tbody>\n",
       "</table>\n",
       "</div>"
      ],
      "text/plain": [
       "   age workclass      fnlwgt  education  education_num      marital_status   \n",
       "0   39       Gov  278.416954  Bachelors             13       Never-married  \\\n",
       "1   50   Private  288.636450  Bachelors             13  Married-civ-spouse   \n",
       "2   38   Private  464.377002    College              9           No spouse   \n",
       "\n",
       "          occupation relationship   race   sex  capital_gain  capital_loss   \n",
       "0       Adm-clerical        Other  White  Male      2.348587           0.0  \\\n",
       "1    Exec-managerial      Husband  White  Male      0.000000           0.0   \n",
       "2  Handlers-cleaners        Other  White  Male      0.000000           0.0   \n",
       "\n",
       "   hours_per_week native_country  income  \n",
       "0              40  United-States       0  \n",
       "1              13  United-States       0  \n",
       "2              40  United-States       0  "
      ]
     },
     "execution_count": 126,
     "metadata": {},
     "output_type": "execute_result"
    }
   ],
   "source": [
    "df.head(3)"
   ]
  },
  {
   "cell_type": "code",
   "execution_count": 132,
   "metadata": {},
   "outputs": [
    {
     "data": {
      "text/plain": [
       "array(['Adm-clerical', 'Exec-managerial', 'Handlers-cleaners',\n",
       "       'Prof-specialty', 'Other-service', 'Sales', 'Craft-repair',\n",
       "       'Transport-moving', 'Farming-fishing', 'Machine-op-inspct',\n",
       "       'Tech-support', 'Protective-serv', 'Armed-Forces',\n",
       "       'Priv-house-serv'], dtype=object)"
      ]
     },
     "execution_count": 132,
     "metadata": {},
     "output_type": "execute_result"
    }
   ],
   "source": [
    "df.occupation.unique()"
   ]
  },
  {
   "attachments": {},
   "cell_type": "markdown",
   "metadata": {},
   "source": [
    "### **Encoding the data**"
   ]
  },
  {
   "cell_type": "code",
   "execution_count": 127,
   "metadata": {},
   "outputs": [],
   "source": [
    "le = LabelEncoder()"
   ]
  },
  {
   "cell_type": "code",
   "execution_count": 128,
   "metadata": {},
   "outputs": [
    {
     "data": {
      "text/plain": [
       "Index(['age', 'workclass', 'fnlwgt', 'education', 'education_num',\n",
       "       'marital_status', 'occupation', 'relationship', 'race', 'sex',\n",
       "       'capital_gain', 'capital_loss', 'hours_per_week', 'native_country',\n",
       "       'income'],\n",
       "      dtype='object')"
      ]
     },
     "execution_count": 128,
     "metadata": {},
     "output_type": "execute_result"
    }
   ],
   "source": [
    "df.columns"
   ]
  },
  {
   "cell_type": "code",
   "execution_count": 122,
   "metadata": {},
   "outputs": [],
   "source": [
    "df['workclass'] = le.fit_transform(df['workclass'])\n",
    "df['education'] = le.fit_transform(df['education'])\n",
    "df['marital_status'] = le.fit_transform(df['marital_status'])\n",
    "df['occupation'] = le.fit_transform(df['occupation'])\n",
    "df['relationship'] = le.fit_transform(df['relationship'])\n",
    "df['native_country'] = le.fit_transform(df['native_country'])\n",
    "df['race'] = le.fit_transform(df['race'])\n",
    "df['sex'] = le.fit_transform(df['sex'])"
   ]
  },
  {
   "cell_type": "code",
   "execution_count": 123,
   "metadata": {},
   "outputs": [
    {
     "data": {
      "text/html": [
       "<div>\n",
       "<style scoped>\n",
       "    .dataframe tbody tr th:only-of-type {\n",
       "        vertical-align: middle;\n",
       "    }\n",
       "\n",
       "    .dataframe tbody tr th {\n",
       "        vertical-align: top;\n",
       "    }\n",
       "\n",
       "    .dataframe thead th {\n",
       "        text-align: right;\n",
       "    }\n",
       "</style>\n",
       "<table border=\"1\" class=\"dataframe\">\n",
       "  <thead>\n",
       "    <tr style=\"text-align: right;\">\n",
       "      <th></th>\n",
       "      <th>age</th>\n",
       "      <th>workclass</th>\n",
       "      <th>fnlwgt</th>\n",
       "      <th>education</th>\n",
       "      <th>education_num</th>\n",
       "      <th>marital_status</th>\n",
       "      <th>occupation</th>\n",
       "      <th>relationship</th>\n",
       "      <th>race</th>\n",
       "      <th>sex</th>\n",
       "      <th>capital_gain</th>\n",
       "      <th>capital_loss</th>\n",
       "      <th>hours_per_week</th>\n",
       "      <th>native_country</th>\n",
       "      <th>income</th>\n",
       "    </tr>\n",
       "  </thead>\n",
       "  <tbody>\n",
       "    <tr>\n",
       "      <th>0</th>\n",
       "      <td>39</td>\n",
       "      <td>1</td>\n",
       "      <td>278.416954</td>\n",
       "      <td>1</td>\n",
       "      <td>13</td>\n",
       "      <td>1</td>\n",
       "      <td>0</td>\n",
       "      <td>1</td>\n",
       "      <td>3</td>\n",
       "      <td>1</td>\n",
       "      <td>2.348587</td>\n",
       "      <td>0.0</td>\n",
       "      <td>40</td>\n",
       "      <td>38</td>\n",
       "      <td>0</td>\n",
       "    </tr>\n",
       "    <tr>\n",
       "      <th>1</th>\n",
       "      <td>50</td>\n",
       "      <td>2</td>\n",
       "      <td>288.636450</td>\n",
       "      <td>1</td>\n",
       "      <td>13</td>\n",
       "      <td>0</td>\n",
       "      <td>3</td>\n",
       "      <td>0</td>\n",
       "      <td>3</td>\n",
       "      <td>1</td>\n",
       "      <td>0.000000</td>\n",
       "      <td>0.0</td>\n",
       "      <td>13</td>\n",
       "      <td>38</td>\n",
       "      <td>0</td>\n",
       "    </tr>\n",
       "  </tbody>\n",
       "</table>\n",
       "</div>"
      ],
      "text/plain": [
       "   age  workclass      fnlwgt  education  education_num  marital_status   \n",
       "0   39          1  278.416954          1             13               1  \\\n",
       "1   50          2  288.636450          1             13               0   \n",
       "\n",
       "   occupation  relationship  race  sex  capital_gain  capital_loss   \n",
       "0           0             1     3    1      2.348587           0.0  \\\n",
       "1           3             0     3    1      0.000000           0.0   \n",
       "\n",
       "   hours_per_week  native_country  income  \n",
       "0              40              38       0  \n",
       "1              13              38       0  "
      ]
     },
     "execution_count": 123,
     "metadata": {},
     "output_type": "execute_result"
    }
   ],
   "source": [
    "df.head(2)"
   ]
  },
  {
   "attachments": {},
   "cell_type": "markdown",
   "metadata": {},
   "source": [
    "### **Scaling the data**"
   ]
  },
  {
   "cell_type": "code",
   "execution_count": 51,
   "metadata": {},
   "outputs": [],
   "source": [
    "ds_x = df.drop('income', axis=1)\n",
    "y = df[['income']]"
   ]
  },
  {
   "cell_type": "code",
   "execution_count": 52,
   "metadata": {},
   "outputs": [],
   "source": [
    "sc = StandardScaler()\n",
    "dataset = sc.fit_transform(ds_x)"
   ]
  },
  {
   "cell_type": "code",
   "execution_count": 53,
   "metadata": {},
   "outputs": [],
   "source": [
    "X = pd.DataFrame(dataset, columns=ds_x.columns)"
   ]
  },
  {
   "cell_type": "code",
   "execution_count": 54,
   "metadata": {},
   "outputs": [
    {
     "data": {
      "text/html": [
       "<div>\n",
       "<style scoped>\n",
       "    .dataframe tbody tr th:only-of-type {\n",
       "        vertical-align: middle;\n",
       "    }\n",
       "\n",
       "    .dataframe tbody tr th {\n",
       "        vertical-align: top;\n",
       "    }\n",
       "\n",
       "    .dataframe thead th {\n",
       "        text-align: right;\n",
       "    }\n",
       "</style>\n",
       "<table border=\"1\" class=\"dataframe\">\n",
       "  <thead>\n",
       "    <tr style=\"text-align: right;\">\n",
       "      <th></th>\n",
       "      <th>age</th>\n",
       "      <th>workclass</th>\n",
       "      <th>fnlwgt</th>\n",
       "      <th>education</th>\n",
       "      <th>education_num</th>\n",
       "      <th>marital_status</th>\n",
       "      <th>occupation</th>\n",
       "      <th>relationship</th>\n",
       "      <th>race</th>\n",
       "      <th>sex</th>\n",
       "      <th>capital_gain</th>\n",
       "      <th>capital_loss</th>\n",
       "      <th>hours_per_week</th>\n",
       "      <th>native_country</th>\n",
       "    </tr>\n",
       "  </thead>\n",
       "  <tbody>\n",
       "    <tr>\n",
       "      <th>0</th>\n",
       "      <td>0.030390</td>\n",
       "      <td>-1.770297</td>\n",
       "      <td>-1.173927</td>\n",
       "      <td>-0.894767</td>\n",
       "      <td>1.134777</td>\n",
       "      <td>0.317397</td>\n",
       "      <td>-1.545209</td>\n",
       "      <td>0.625471</td>\n",
       "      <td>0.395889</td>\n",
       "      <td>0.70302</td>\n",
       "      <td>2.845440</td>\n",
       "      <td>-0.22121</td>\n",
       "      <td>-0.035664</td>\n",
       "      <td>0.261131</td>\n",
       "    </tr>\n",
       "    <tr>\n",
       "      <th>1</th>\n",
       "      <td>0.836973</td>\n",
       "      <td>0.259021</td>\n",
       "      <td>-1.088519</td>\n",
       "      <td>-0.894767</td>\n",
       "      <td>1.134777</td>\n",
       "      <td>-0.962299</td>\n",
       "      <td>-0.790133</td>\n",
       "      <td>-1.126053</td>\n",
       "      <td>0.395889</td>\n",
       "      <td>0.70302</td>\n",
       "      <td>-0.299307</td>\n",
       "      <td>-0.22121</td>\n",
       "      <td>-2.222483</td>\n",
       "      <td>0.261131</td>\n",
       "    </tr>\n",
       "  </tbody>\n",
       "</table>\n",
       "</div>"
      ],
      "text/plain": [
       "        age  workclass    fnlwgt  education  education_num  marital_status   \n",
       "0  0.030390  -1.770297 -1.173927  -0.894767       1.134777        0.317397  \\\n",
       "1  0.836973   0.259021 -1.088519  -0.894767       1.134777       -0.962299   \n",
       "\n",
       "   occupation  relationship      race      sex  capital_gain  capital_loss   \n",
       "0   -1.545209      0.625471  0.395889  0.70302      2.845440      -0.22121  \\\n",
       "1   -0.790133     -1.126053  0.395889  0.70302     -0.299307      -0.22121   \n",
       "\n",
       "   hours_per_week  native_country  \n",
       "0       -0.035664        0.261131  \n",
       "1       -2.222483        0.261131  "
      ]
     },
     "execution_count": 54,
     "metadata": {},
     "output_type": "execute_result"
    }
   ],
   "source": [
    "X.head(2)"
   ]
  },
  {
   "cell_type": "code",
   "execution_count": 55,
   "metadata": {},
   "outputs": [
    {
     "data": {
      "text/html": [
       "<div>\n",
       "<style scoped>\n",
       "    .dataframe tbody tr th:only-of-type {\n",
       "        vertical-align: middle;\n",
       "    }\n",
       "\n",
       "    .dataframe tbody tr th {\n",
       "        vertical-align: top;\n",
       "    }\n",
       "\n",
       "    .dataframe thead th {\n",
       "        text-align: right;\n",
       "    }\n",
       "</style>\n",
       "<table border=\"1\" class=\"dataframe\">\n",
       "  <thead>\n",
       "    <tr style=\"text-align: right;\">\n",
       "      <th></th>\n",
       "      <th>income</th>\n",
       "    </tr>\n",
       "  </thead>\n",
       "  <tbody>\n",
       "    <tr>\n",
       "      <th>0</th>\n",
       "      <td>0</td>\n",
       "    </tr>\n",
       "    <tr>\n",
       "      <th>1</th>\n",
       "      <td>0</td>\n",
       "    </tr>\n",
       "  </tbody>\n",
       "</table>\n",
       "</div>"
      ],
      "text/plain": [
       "   income\n",
       "0       0\n",
       "1       0"
      ]
     },
     "execution_count": 55,
     "metadata": {},
     "output_type": "execute_result"
    }
   ],
   "source": [
    "y.head(2)"
   ]
  },
  {
   "attachments": {},
   "cell_type": "markdown",
   "metadata": {},
   "source": [
    "### **Fitting data into classification models**"
   ]
  },
  {
   "attachments": {},
   "cell_type": "markdown",
   "metadata": {},
   "source": [
    "creating instances of classification models"
   ]
  },
  {
   "cell_type": "code",
   "execution_count": 56,
   "metadata": {},
   "outputs": [],
   "source": [
    "lg = LogisticRegression()\n",
    "dt = DecisionTreeClassifier()\n",
    "gnb = GaussianNB()\n",
    "svc = SVC()\n",
    "knn = KNeighborsClassifier()"
   ]
  },
  {
   "attachments": {},
   "cell_type": "markdown",
   "metadata": {},
   "source": [
    "train test split"
   ]
  },
  {
   "cell_type": "code",
   "execution_count": 57,
   "metadata": {},
   "outputs": [
    {
     "data": {
      "text/plain": [
       "((32537, 14), (32537, 1))"
      ]
     },
     "execution_count": 57,
     "metadata": {},
     "output_type": "execute_result"
    }
   ],
   "source": [
    "X.shape, y.shape"
   ]
  },
  {
   "cell_type": "code",
   "execution_count": 58,
   "metadata": {},
   "outputs": [],
   "source": [
    "X_train, X_test, y_train, y_test  = train_test_split(X, y ,test_size=0.3, random_state=11)"
   ]
  },
  {
   "cell_type": "code",
   "execution_count": 59,
   "metadata": {},
   "outputs": [
    {
     "data": {
      "text/plain": [
       "((22775, 14), (9762, 14))"
      ]
     },
     "execution_count": 59,
     "metadata": {},
     "output_type": "execute_result"
    }
   ],
   "source": [
    "X_train.shape, X_test.shape"
   ]
  },
  {
   "cell_type": "code",
   "execution_count": 60,
   "metadata": {},
   "outputs": [
    {
     "data": {
      "text/plain": [
       "((22775, 1), (9762, 1))"
      ]
     },
     "execution_count": 60,
     "metadata": {},
     "output_type": "execute_result"
    }
   ],
   "source": [
    "y_train.shape, y_test.shape"
   ]
  },
  {
   "cell_type": "code",
   "execution_count": 61,
   "metadata": {},
   "outputs": [
    {
     "name": "stdout",
     "output_type": "stream",
     "text": [
      "LogisticRegression()\n",
      "------------------------------\n",
      "test_score : 0.8279041180086048\n",
      "train_score : 0.833589462129528\n",
      "Accuracy score of train data : 0.8279041180086048\n",
      "Accuracy score of test data : 0.833589462129528\n",
      "classification_report :               precision    recall  f1-score   support\n",
      "\n",
      "           0       0.86      0.93      0.89      7383\n",
      "           1       0.70      0.51      0.59      2379\n",
      "\n",
      "    accuracy                           0.83      9762\n",
      "   macro avg       0.78      0.72      0.74      9762\n",
      "weighted avg       0.82      0.83      0.82      9762\n",
      "\n",
      "confusion_matrix : [[6857  526]\n",
      " [1154 1225]]\n",
      "************************************************************************************************************************\n",
      "DecisionTreeClassifier()\n",
      "------------------------------\n",
      "test_score : 0.811821348084409\n",
      "train_score : 0.9998682766190999\n",
      "Accuracy score of train data : 0.811821348084409\n",
      "Accuracy score of test data : 0.9998682766190999\n",
      "classification_report :               precision    recall  f1-score   support\n",
      "\n",
      "           0       0.88      0.87      0.88      7383\n",
      "           1       0.61      0.62      0.62      2379\n",
      "\n",
      "    accuracy                           0.81      9762\n",
      "   macro avg       0.74      0.75      0.75      9762\n",
      "weighted avg       0.81      0.81      0.81      9762\n",
      "\n",
      "confusion_matrix : [[6445  938]\n",
      " [ 899 1480]]\n",
      "************************************************************************************************************************\n",
      "GaussianNB()\n",
      "------------------------------\n",
      "test_score : 0.8073140749846343\n",
      "train_score : 0.8074204171240396\n",
      "Accuracy score of train data : 0.8073140749846343\n",
      "Accuracy score of test data : 0.8074204171240396\n",
      "classification_report :               precision    recall  f1-score   support\n",
      "\n",
      "           0       0.88      0.87      0.87      7383\n",
      "           1       0.60      0.62      0.61      2379\n",
      "\n",
      "    accuracy                           0.81      9762\n",
      "   macro avg       0.74      0.74      0.74      9762\n",
      "weighted avg       0.81      0.81      0.81      9762\n",
      "\n",
      "confusion_matrix : [[6403  980]\n",
      " [ 901 1478]]\n",
      "************************************************************************************************************************\n",
      "SVC()\n",
      "------------------------------\n",
      "test_score : 0.8425527555828723\n",
      "train_score : 0.8576509330406147\n",
      "Accuracy score of train data : 0.8425527555828723\n",
      "Accuracy score of test data : 0.8576509330406147\n",
      "classification_report :               precision    recall  f1-score   support\n",
      "\n",
      "           0       0.87      0.93      0.90      7383\n",
      "           1       0.73      0.56      0.63      2379\n",
      "\n",
      "    accuracy                           0.84      9762\n",
      "   macro avg       0.80      0.75      0.77      9762\n",
      "weighted avg       0.83      0.84      0.83      9762\n",
      "\n",
      "confusion_matrix : [[6899  484]\n",
      " [1053 1326]]\n",
      "************************************************************************************************************************\n",
      "KNeighborsClassifier()\n",
      "------------------------------\n",
      "test_score : 0.8246261012087687\n",
      "train_score : 0.8777167947310648\n",
      "Accuracy score of train data : 0.8246261012087687\n",
      "Accuracy score of test data : 0.8777167947310648\n",
      "classification_report :               precision    recall  f1-score   support\n",
      "\n",
      "           0       0.87      0.90      0.89      7383\n",
      "           1       0.65      0.60      0.62      2379\n",
      "\n",
      "    accuracy                           0.82      9762\n",
      "   macro avg       0.76      0.75      0.76      9762\n",
      "weighted avg       0.82      0.82      0.82      9762\n",
      "\n",
      "confusion_matrix : [[6626  757]\n",
      " [ 955 1424]]\n",
      "************************************************************************************************************************\n"
     ]
    }
   ],
   "source": [
    "for mod in [lg, dt, gnb, svc, knn]:\n",
    "    mod.fit(X_train, y_train)\n",
    "    pred = mod.predict(X_test)\n",
    "    test_score = accuracy_score(y_test, pred)\n",
    "    train_score = accuracy_score(y_train, mod.predict(X_train))\n",
    "    \n",
    "    print(mod)\n",
    "    print(\"---\"*10)\n",
    "    print(f\"test_score : {test_score}\")\n",
    "    print(f\"train_score : {train_score}\")\n",
    "    print(f\"Accuracy score of train data : {accuracy_score(y_test, pred)}\")\n",
    "    print(f\"Accuracy score of test data : {accuracy_score(y_train, mod.predict(X_train))}\")\n",
    "    print(f\"classification_report : {classification_report(y_test,pred)}\")\n",
    "    print(f\"confusion_matrix : {confusion_matrix(y_test, pred)}\")\n",
    "    print(\"**\"*60)"
   ]
  },
  {
   "attachments": {},
   "cell_type": "markdown",
   "metadata": {},
   "source": [
    "Observation ---->   We achieve the best results using — 'Support Vector Classifier', which provides an accuracy of 84% on test data. "
   ]
  },
  {
   "attachments": {},
   "cell_type": "markdown",
   "metadata": {},
   "source": [
    "### **Fitting the data to classification models to check how our ensemble models perform on the given dataset**"
   ]
  },
  {
   "cell_type": "code",
   "execution_count": 17,
   "metadata": {},
   "outputs": [],
   "source": [
    "rfc = RandomForestClassifier()\n",
    "ad = AdaBoostClassifier()\n",
    "gd = GradientBoostingClassifier()"
   ]
  },
  {
   "cell_type": "code",
   "execution_count": 18,
   "metadata": {},
   "outputs": [],
   "source": [
    "X_train1, X_test1, y_train1, y_test1  = train_test_split(X, y ,test_size=0.3, random_state=11)"
   ]
  },
  {
   "cell_type": "code",
   "execution_count": 19,
   "metadata": {},
   "outputs": [
    {
     "name": "stdout",
     "output_type": "stream",
     "text": [
      "RandomForestClassifier()\n",
      "------------------------------\n",
      "test_score : 0.853820938332309\n",
      "train_score : 0.9998682766190999\n",
      "Accuracy score of train data : 0.853820938332309\n",
      "Accuracy score of test data : 0.9998682766190999\n",
      "classification_report : \n",
      "              precision    recall  f1-score   support\n",
      "\n",
      "           0       0.88      0.93      0.91      7383\n",
      "           1       0.74      0.61      0.67      2379\n",
      "\n",
      "    accuracy                           0.85      9762\n",
      "   macro avg       0.81      0.77      0.79      9762\n",
      "weighted avg       0.85      0.85      0.85      9762\n",
      "\n",
      "confusion_matrix : \n",
      "[[6884  499]\n",
      " [ 928 1451]]\n",
      "************************************************************************************************************************\n",
      "AdaBoostClassifier()\n",
      "------------------------------\n",
      "test_score : 0.85720139315714\n",
      "train_score : 0.8600219538968167\n",
      "Accuracy score of train data : 0.85720139315714\n",
      "Accuracy score of test data : 0.8600219538968167\n",
      "classification_report : \n",
      "              precision    recall  f1-score   support\n",
      "\n",
      "           0       0.88      0.95      0.91      7383\n",
      "           1       0.78      0.58      0.66      2379\n",
      "\n",
      "    accuracy                           0.86      9762\n",
      "   macro avg       0.83      0.76      0.79      9762\n",
      "weighted avg       0.85      0.86      0.85      9762\n",
      "\n",
      "confusion_matrix : \n",
      "[[6986  397]\n",
      " [ 997 1382]]\n",
      "************************************************************************************************************************\n",
      "GradientBoostingClassifier()\n",
      "------------------------------\n",
      "test_score : 0.8657037492317148\n",
      "train_score : 0.8704281009879253\n",
      "Accuracy score of train data : 0.8657037492317148\n",
      "Accuracy score of test data : 0.8704281009879253\n",
      "classification_report : \n",
      "              precision    recall  f1-score   support\n",
      "\n",
      "           0       0.88      0.95      0.91      7383\n",
      "           1       0.79      0.61      0.69      2379\n",
      "\n",
      "    accuracy                           0.87      9762\n",
      "   macro avg       0.84      0.78      0.80      9762\n",
      "weighted avg       0.86      0.87      0.86      9762\n",
      "\n",
      "confusion_matrix : \n",
      "[[7009  374]\n",
      " [ 937 1442]]\n",
      "************************************************************************************************************************\n"
     ]
    }
   ],
   "source": [
    "for en_mod in [rfc,ad,gd]:\n",
    "    en_mod.fit(X_train1, y_train1)\n",
    "    prediction = en_mod.predict(X_test1)\n",
    "    test_score = accuracy_score(y_test1, prediction)\n",
    "    train_score = accuracy_score(y_train1, en_mod.predict(X_train1))\n",
    "    \n",
    "    print(en_mod)\n",
    "    print(\"---\"*10)\n",
    "    print(f\"test_score : {test_score}\")\n",
    "    print(f\"train_score : {train_score}\")\n",
    "    print(f\"Accuracy score of train data : {accuracy_score(y_test1, prediction)}\")\n",
    "    print(f\"Accuracy score of test data : {accuracy_score(y_train1, en_mod.predict(X_train1))}\")\n",
    "    print(f\"classification_report : \\n{classification_report(y_test1,prediction)}\")\n",
    "    print(f\"confusion_matrix : \\n{confusion_matrix(y_test1, prediction)}\")\n",
    "    print(\"**\"*60)"
   ]
  },
  {
   "attachments": {},
   "cell_type": "markdown",
   "metadata": {},
   "source": [
    "Observation ---> the Gradient Boosting Classifier gives us an accuracy of ~87% (higher than SVC), and the f1-score, recall and precision scores also improve. Hence we choose 'Gradient boosting classifier' as our final model, and proceed with hypertuning the model."
   ]
  },
  {
   "attachments": {},
   "cell_type": "markdown",
   "metadata": {},
   "source": [
    "### **Cross validation**  \n",
    "the goal of cross-validation is to test the model’s ability to predict new data that was not used in estimating it, in order to flag problems like overfitting or selection bias and to give an insight on how the model will generalize to an independent dataset "
   ]
  },
  {
   "cell_type": "code",
   "execution_count": 27,
   "metadata": {},
   "outputs": [
    {
     "name": "stdout",
     "output_type": "stream",
     "text": [
      "GradientBoostingClassifier() 0.8653533494827096\n",
      "GradientBoostingClassifier() 0.8649230813177521\n",
      "GradientBoostingClassifier() 0.8647079405513881\n",
      "GradientBoostingClassifier() 0.8656608471100433\n",
      "GradientBoostingClassifier() 0.8644927467719893\n",
      "GradientBoostingClassifier() 0.8644622145105194\n",
      "GradientBoostingClassifier() 0.8649847266980147\n"
     ]
    }
   ],
   "source": [
    "for i in range(2,9):\n",
    "    cv = cross_val_score(gd, X, y, cv=i)\n",
    "    print(gd, cv.mean())"
   ]
  },
  {
   "attachments": {},
   "cell_type": "markdown",
   "metadata": {},
   "source": [
    "Observation ----> the model is not overfitting and will perform well for new data that fed to our model. "
   ]
  },
  {
   "cell_type": "code",
   "execution_count": 16,
   "metadata": {},
   "outputs": [],
   "source": [
    "params = {\n",
    "    'learning_rate' : [0.1,0.01],\n",
    "    'max_depth' : [3,4,5],\n",
    "    'min_samples_leaf' : [1,2],\n",
    "    'min_samples_split' : [2,3],\n",
    "    'n_estimators' : [10,50,100]\n",
    "}"
   ]
  },
  {
   "cell_type": "code",
   "execution_count": 20,
   "metadata": {},
   "outputs": [],
   "source": [
    "gcv = GridSearchCV(gd,params)"
   ]
  },
  {
   "cell_type": "code",
   "execution_count": null,
   "metadata": {},
   "outputs": [],
   "source": [
    "result = gcv.fit(X_train1, y_train1)"
   ]
  },
  {
   "cell_type": "code",
   "execution_count": null,
   "metadata": {},
   "outputs": [],
   "source": [
    "result.best_params_"
   ]
  },
  {
   "cell_type": "code",
   "execution_count": null,
   "metadata": {},
   "outputs": [],
   "source": [
    "pip install tune-sklearn ray[tune]"
   ]
  },
  {
   "cell_type": "code",
   "execution_count": 15,
   "metadata": {},
   "outputs": [],
   "source": [
    "from tune_sklearn import TuneGridSearchCV"
   ]
  },
  {
   "cell_type": "code",
   "execution_count": 26,
   "metadata": {},
   "outputs": [],
   "source": [
    "tgcv = TuneGridSearchCV(gd,params)"
   ]
  },
  {
   "cell_type": "code",
   "execution_count": 27,
   "metadata": {},
   "outputs": [
    {
     "data": {
      "text/html": [],
      "text/plain": [
       "<IPython.core.display.HTML object>"
      ]
     },
     "metadata": {},
     "output_type": "display_data"
    },
    {
     "name": "stderr",
     "output_type": "stream",
     "text": [
      "\u001b[2m\u001b[36m(_Trainable pid=10360)\u001b[0m d:\\IncomePredictor\\venv\\lib\\site-packages\\scikit_learn-1.2.2-py3.8-win-amd64.egg\\sklearn\\ensemble\\_gb.py:437: DataConversionWarning: A column-vector y was passed when a 1d array was expected. Please change the shape of y to (n_samples, ), for example using ravel().\n",
      "\u001b[2m\u001b[36m(_Trainable pid=10360)\u001b[0m   y = column_or_1d(y, warn=True)\n",
      "\u001b[2m\u001b[36m(_Trainable pid=7476)\u001b[0m d:\\IncomePredictor\\venv\\lib\\site-packages\\scikit_learn-1.2.2-py3.8-win-amd64.egg\\sklearn\\ensemble\\_gb.py:437: DataConversionWarning: A column-vector y was passed when a 1d array was expected. Please change the shape of y to (n_samples, ), for example using ravel().\u001b[32m [repeated 39x across cluster] (Ray deduplicates logs by default. Set RAY_DEDUP_LOGS=0 to disable log deduplication, or see https://docs.ray.io/en/master/ray-observability/ray-logging.html#log-deduplication for more options.)\u001b[0m\n",
      "\u001b[2m\u001b[36m(_Trainable pid=7476)\u001b[0m   y = column_or_1d(y, warn=True)\u001b[32m [repeated 39x across cluster]\u001b[0m\n",
      "\u001b[2m\u001b[36m(_Trainable pid=10928)\u001b[0m d:\\IncomePredictor\\venv\\lib\\site-packages\\scikit_learn-1.2.2-py3.8-win-amd64.egg\\sklearn\\ensemble\\_gb.py:437: DataConversionWarning: A column-vector y was passed when a 1d array was expected. Please change the shape of y to (n_samples, ), for example using ravel().\u001b[32m [repeated 32x across cluster]\u001b[0m\n",
      "\u001b[2m\u001b[36m(_Trainable pid=10928)\u001b[0m   y = column_or_1d(y, warn=True)\u001b[32m [repeated 32x across cluster]\u001b[0m\n",
      "\u001b[2m\u001b[36m(_Trainable pid=7476)\u001b[0m d:\\IncomePredictor\\venv\\lib\\site-packages\\scikit_learn-1.2.2-py3.8-win-amd64.egg\\sklearn\\ensemble\\_gb.py:437: DataConversionWarning: A column-vector y was passed when a 1d array was expected. Please change the shape of y to (n_samples, ), for example using ravel().\u001b[32m [repeated 32x across cluster]\u001b[0m\n",
      "\u001b[2m\u001b[36m(_Trainable pid=7476)\u001b[0m   y = column_or_1d(y, warn=True)\u001b[32m [repeated 32x across cluster]\u001b[0m\n",
      "\u001b[2m\u001b[36m(_Trainable pid=7476)\u001b[0m d:\\IncomePredictor\\venv\\lib\\site-packages\\scikit_learn-1.2.2-py3.8-win-amd64.egg\\sklearn\\ensemble\\_gb.py:437: DataConversionWarning: A column-vector y was passed when a 1d array was expected. Please change the shape of y to (n_samples, ), for example using ravel().\u001b[32m [repeated 24x across cluster]\u001b[0m\n",
      "\u001b[2m\u001b[36m(_Trainable pid=7476)\u001b[0m   y = column_or_1d(y, warn=True)\u001b[32m [repeated 24x across cluster]\u001b[0m\n",
      "\u001b[2m\u001b[36m(_Trainable pid=3132)\u001b[0m d:\\IncomePredictor\\venv\\lib\\site-packages\\scikit_learn-1.2.2-py3.8-win-amd64.egg\\sklearn\\ensemble\\_gb.py:437: DataConversionWarning: A column-vector y was passed when a 1d array was expected. Please change the shape of y to (n_samples, ), for example using ravel().\u001b[32m [repeated 9x across cluster]\u001b[0m\n",
      "\u001b[2m\u001b[36m(_Trainable pid=3132)\u001b[0m   y = column_or_1d(y, warn=True)\u001b[32m [repeated 9x across cluster]\u001b[0m\n",
      "\u001b[2m\u001b[36m(_Trainable pid=3132)\u001b[0m d:\\IncomePredictor\\venv\\lib\\site-packages\\scikit_learn-1.2.2-py3.8-win-amd64.egg\\sklearn\\ensemble\\_gb.py:437: DataConversionWarning: A column-vector y was passed when a 1d array was expected. Please change the shape of y to (n_samples, ), for example using ravel().\u001b[32m [repeated 8x across cluster]\u001b[0m\n",
      "\u001b[2m\u001b[36m(_Trainable pid=3132)\u001b[0m   y = column_or_1d(y, warn=True)\u001b[32m [repeated 8x across cluster]\u001b[0m\n",
      "\u001b[2m\u001b[36m(_Trainable pid=10928)\u001b[0m d:\\IncomePredictor\\venv\\lib\\site-packages\\scikit_learn-1.2.2-py3.8-win-amd64.egg\\sklearn\\ensemble\\_gb.py:437: DataConversionWarning: A column-vector y was passed when a 1d array was expected. Please change the shape of y to (n_samples, ), for example using ravel().\u001b[32m [repeated 11x across cluster]\u001b[0m\n",
      "\u001b[2m\u001b[36m(_Trainable pid=10928)\u001b[0m   y = column_or_1d(y, warn=True)\u001b[32m [repeated 11x across cluster]\u001b[0m\n",
      "\u001b[2m\u001b[36m(_Trainable pid=10360)\u001b[0m d:\\IncomePredictor\\venv\\lib\\site-packages\\scikit_learn-1.2.2-py3.8-win-amd64.egg\\sklearn\\ensemble\\_gb.py:437: DataConversionWarning: A column-vector y was passed when a 1d array was expected. Please change the shape of y to (n_samples, ), for example using ravel().\u001b[32m [repeated 9x across cluster]\u001b[0m\n",
      "\u001b[2m\u001b[36m(_Trainable pid=10360)\u001b[0m   y = column_or_1d(y, warn=True)\u001b[32m [repeated 9x across cluster]\u001b[0m\n",
      "\u001b[2m\u001b[36m(_Trainable pid=11524)\u001b[0m d:\\IncomePredictor\\venv\\lib\\site-packages\\scikit_learn-1.2.2-py3.8-win-amd64.egg\\sklearn\\ensemble\\_gb.py:437: DataConversionWarning: A column-vector y was passed when a 1d array was expected. Please change the shape of y to (n_samples, ), for example using ravel().\u001b[32m [repeated 9x across cluster]\u001b[0m\n",
      "\u001b[2m\u001b[36m(_Trainable pid=11524)\u001b[0m   y = column_or_1d(y, warn=True)\u001b[32m [repeated 9x across cluster]\u001b[0m\n",
      "\u001b[2m\u001b[36m(_Trainable pid=8732)\u001b[0m d:\\IncomePredictor\\venv\\lib\\site-packages\\scikit_learn-1.2.2-py3.8-win-amd64.egg\\sklearn\\ensemble\\_gb.py:437: DataConversionWarning: A column-vector y was passed when a 1d array was expected. Please change the shape of y to (n_samples, ), for example using ravel().\u001b[32m [repeated 7x across cluster]\u001b[0m\n",
      "\u001b[2m\u001b[36m(_Trainable pid=8732)\u001b[0m   y = column_or_1d(y, warn=True)\u001b[32m [repeated 7x across cluster]\u001b[0m\n",
      "\u001b[2m\u001b[36m(_Trainable pid=8732)\u001b[0m d:\\IncomePredictor\\venv\\lib\\site-packages\\scikit_learn-1.2.2-py3.8-win-amd64.egg\\sklearn\\ensemble\\_gb.py:437: DataConversionWarning: A column-vector y was passed when a 1d array was expected. Please change the shape of y to (n_samples, ), for example using ravel().\u001b[32m [repeated 8x across cluster]\u001b[0m\n",
      "\u001b[2m\u001b[36m(_Trainable pid=8732)\u001b[0m   y = column_or_1d(y, warn=True)\u001b[32m [repeated 8x across cluster]\u001b[0m\n",
      "\u001b[2m\u001b[36m(_Trainable pid=8732)\u001b[0m d:\\IncomePredictor\\venv\\lib\\site-packages\\scikit_learn-1.2.2-py3.8-win-amd64.egg\\sklearn\\ensemble\\_gb.py:437: DataConversionWarning: A column-vector y was passed when a 1d array was expected. Please change the shape of y to (n_samples, ), for example using ravel().\u001b[32m [repeated 10x across cluster]\u001b[0m\n",
      "\u001b[2m\u001b[36m(_Trainable pid=8732)\u001b[0m   y = column_or_1d(y, warn=True)\u001b[32m [repeated 10x across cluster]\u001b[0m\n",
      "\u001b[2m\u001b[36m(_Trainable pid=9184)\u001b[0m d:\\IncomePredictor\\venv\\lib\\site-packages\\scikit_learn-1.2.2-py3.8-win-amd64.egg\\sklearn\\ensemble\\_gb.py:437: DataConversionWarning: A column-vector y was passed when a 1d array was expected. Please change the shape of y to (n_samples, ), for example using ravel().\u001b[32m [repeated 8x across cluster]\u001b[0m\n",
      "\u001b[2m\u001b[36m(_Trainable pid=9184)\u001b[0m   y = column_or_1d(y, warn=True)\u001b[32m [repeated 8x across cluster]\u001b[0m\n",
      "\u001b[2m\u001b[36m(_Trainable pid=10360)\u001b[0m d:\\IncomePredictor\\venv\\lib\\site-packages\\scikit_learn-1.2.2-py3.8-win-amd64.egg\\sklearn\\ensemble\\_gb.py:437: DataConversionWarning: A column-vector y was passed when a 1d array was expected. Please change the shape of y to (n_samples, ), for example using ravel().\u001b[32m [repeated 8x across cluster]\u001b[0m\n",
      "\u001b[2m\u001b[36m(_Trainable pid=10360)\u001b[0m   y = column_or_1d(y, warn=True)\u001b[32m [repeated 8x across cluster]\u001b[0m\n",
      "\u001b[2m\u001b[36m(_Trainable pid=7296)\u001b[0m d:\\IncomePredictor\\venv\\lib\\site-packages\\scikit_learn-1.2.2-py3.8-win-amd64.egg\\sklearn\\ensemble\\_gb.py:437: DataConversionWarning: A column-vector y was passed when a 1d array was expected. Please change the shape of y to (n_samples, ), for example using ravel().\u001b[32m [repeated 8x across cluster]\u001b[0m\n",
      "\u001b[2m\u001b[36m(_Trainable pid=7296)\u001b[0m   y = column_or_1d(y, warn=True)\u001b[32m [repeated 8x across cluster]\u001b[0m\n",
      "\u001b[2m\u001b[36m(_Trainable pid=8732)\u001b[0m d:\\IncomePredictor\\venv\\lib\\site-packages\\scikit_learn-1.2.2-py3.8-win-amd64.egg\\sklearn\\ensemble\\_gb.py:437: DataConversionWarning: A column-vector y was passed when a 1d array was expected. Please change the shape of y to (n_samples, ), for example using ravel().\u001b[32m [repeated 8x across cluster]\u001b[0m\n",
      "\u001b[2m\u001b[36m(_Trainable pid=8732)\u001b[0m   y = column_or_1d(y, warn=True)\u001b[32m [repeated 8x across cluster]\u001b[0m\n",
      "\u001b[2m\u001b[36m(_Trainable pid=10928)\u001b[0m d:\\IncomePredictor\\venv\\lib\\site-packages\\scikit_learn-1.2.2-py3.8-win-amd64.egg\\sklearn\\ensemble\\_gb.py:437: DataConversionWarning: A column-vector y was passed when a 1d array was expected. Please change the shape of y to (n_samples, ), for example using ravel().\u001b[32m [repeated 9x across cluster]\u001b[0m\n",
      "\u001b[2m\u001b[36m(_Trainable pid=10928)\u001b[0m   y = column_or_1d(y, warn=True)\u001b[32m [repeated 9x across cluster]\u001b[0m\n",
      "\u001b[2m\u001b[36m(_Trainable pid=10928)\u001b[0m d:\\IncomePredictor\\venv\\lib\\site-packages\\scikit_learn-1.2.2-py3.8-win-amd64.egg\\sklearn\\ensemble\\_gb.py:437: DataConversionWarning: A column-vector y was passed when a 1d array was expected. Please change the shape of y to (n_samples, ), for example using ravel().\u001b[32m [repeated 6x across cluster]\u001b[0m\n",
      "\u001b[2m\u001b[36m(_Trainable pid=10928)\u001b[0m   y = column_or_1d(y, warn=True)\u001b[32m [repeated 6x across cluster]\u001b[0m\n",
      "\u001b[2m\u001b[36m(_Trainable pid=7296)\u001b[0m d:\\IncomePredictor\\venv\\lib\\site-packages\\scikit_learn-1.2.2-py3.8-win-amd64.egg\\sklearn\\ensemble\\_gb.py:437: DataConversionWarning: A column-vector y was passed when a 1d array was expected. Please change the shape of y to (n_samples, ), for example using ravel().\u001b[32m [repeated 5x across cluster]\u001b[0m\n",
      "\u001b[2m\u001b[36m(_Trainable pid=7296)\u001b[0m   y = column_or_1d(y, warn=True)\u001b[32m [repeated 5x across cluster]\u001b[0m\n",
      "\u001b[2m\u001b[36m(_Trainable pid=8732)\u001b[0m d:\\IncomePredictor\\venv\\lib\\site-packages\\scikit_learn-1.2.2-py3.8-win-amd64.egg\\sklearn\\ensemble\\_gb.py:437: DataConversionWarning: A column-vector y was passed when a 1d array was expected. Please change the shape of y to (n_samples, ), for example using ravel().\u001b[32m [repeated 6x across cluster]\u001b[0m\n",
      "\u001b[2m\u001b[36m(_Trainable pid=8732)\u001b[0m   y = column_or_1d(y, warn=True)\u001b[32m [repeated 6x across cluster]\u001b[0m\n",
      "\u001b[2m\u001b[36m(_Trainable pid=9184)\u001b[0m d:\\IncomePredictor\\venv\\lib\\site-packages\\scikit_learn-1.2.2-py3.8-win-amd64.egg\\sklearn\\ensemble\\_gb.py:437: DataConversionWarning: A column-vector y was passed when a 1d array was expected. Please change the shape of y to (n_samples, ), for example using ravel().\u001b[32m [repeated 5x across cluster]\u001b[0m\n",
      "\u001b[2m\u001b[36m(_Trainable pid=9184)\u001b[0m   y = column_or_1d(y, warn=True)\u001b[32m [repeated 5x across cluster]\u001b[0m\n",
      "\u001b[2m\u001b[36m(_Trainable pid=10360)\u001b[0m d:\\IncomePredictor\\venv\\lib\\site-packages\\scikit_learn-1.2.2-py3.8-win-amd64.egg\\sklearn\\ensemble\\_gb.py:437: DataConversionWarning: A column-vector y was passed when a 1d array was expected. Please change the shape of y to (n_samples, ), for example using ravel().\u001b[32m [repeated 3x across cluster]\u001b[0m\n",
      "\u001b[2m\u001b[36m(_Trainable pid=10360)\u001b[0m   y = column_or_1d(y, warn=True)\u001b[32m [repeated 3x across cluster]\u001b[0m\n",
      "\u001b[2m\u001b[36m(_Trainable pid=9184)\u001b[0m d:\\IncomePredictor\\venv\\lib\\site-packages\\scikit_learn-1.2.2-py3.8-win-amd64.egg\\sklearn\\ensemble\\_gb.py:437: DataConversionWarning: A column-vector y was passed when a 1d array was expected. Please change the shape of y to (n_samples, ), for example using ravel().\u001b[32m [repeated 8x across cluster]\u001b[0m\n",
      "\u001b[2m\u001b[36m(_Trainable pid=9184)\u001b[0m   y = column_or_1d(y, warn=True)\u001b[32m [repeated 8x across cluster]\u001b[0m\n",
      "\u001b[2m\u001b[36m(_Trainable pid=7476)\u001b[0m d:\\IncomePredictor\\venv\\lib\\site-packages\\scikit_learn-1.2.2-py3.8-win-amd64.egg\\sklearn\\ensemble\\_gb.py:437: DataConversionWarning: A column-vector y was passed when a 1d array was expected. Please change the shape of y to (n_samples, ), for example using ravel().\u001b[32m [repeated 7x across cluster]\u001b[0m\n",
      "\u001b[2m\u001b[36m(_Trainable pid=7476)\u001b[0m   y = column_or_1d(y, warn=True)\u001b[32m [repeated 7x across cluster]\u001b[0m\n",
      "\u001b[2m\u001b[36m(_Trainable pid=10360)\u001b[0m d:\\IncomePredictor\\venv\\lib\\site-packages\\scikit_learn-1.2.2-py3.8-win-amd64.egg\\sklearn\\ensemble\\_gb.py:437: DataConversionWarning: A column-vector y was passed when a 1d array was expected. Please change the shape of y to (n_samples, ), for example using ravel().\u001b[32m [repeated 3x across cluster]\u001b[0m\n",
      "\u001b[2m\u001b[36m(_Trainable pid=10360)\u001b[0m   y = column_or_1d(y, warn=True)\u001b[32m [repeated 3x across cluster]\u001b[0m\n",
      "\u001b[2m\u001b[36m(_Trainable pid=3132)\u001b[0m d:\\IncomePredictor\\venv\\lib\\site-packages\\scikit_learn-1.2.2-py3.8-win-amd64.egg\\sklearn\\ensemble\\_gb.py:437: DataConversionWarning: A column-vector y was passed when a 1d array was expected. Please change the shape of y to (n_samples, ), for example using ravel().\u001b[32m [repeated 5x across cluster]\u001b[0m\n",
      "\u001b[2m\u001b[36m(_Trainable pid=3132)\u001b[0m   y = column_or_1d(y, warn=True)\u001b[32m [repeated 5x across cluster]\u001b[0m\n",
      "\u001b[2m\u001b[36m(_Trainable pid=10360)\u001b[0m d:\\IncomePredictor\\venv\\lib\\site-packages\\scikit_learn-1.2.2-py3.8-win-amd64.egg\\sklearn\\ensemble\\_gb.py:437: DataConversionWarning: A column-vector y was passed when a 1d array was expected. Please change the shape of y to (n_samples, ), for example using ravel().\u001b[32m [repeated 3x across cluster]\u001b[0m\n",
      "\u001b[2m\u001b[36m(_Trainable pid=10360)\u001b[0m   y = column_or_1d(y, warn=True)\u001b[32m [repeated 3x across cluster]\u001b[0m\n",
      "\u001b[2m\u001b[36m(_Trainable pid=7296)\u001b[0m d:\\IncomePredictor\\venv\\lib\\site-packages\\scikit_learn-1.2.2-py3.8-win-amd64.egg\\sklearn\\ensemble\\_gb.py:437: DataConversionWarning: A column-vector y was passed when a 1d array was expected. Please change the shape of y to (n_samples, ), for example using ravel().\u001b[32m [repeated 4x across cluster]\u001b[0m\n",
      "\u001b[2m\u001b[36m(_Trainable pid=7296)\u001b[0m   y = column_or_1d(y, warn=True)\u001b[32m [repeated 4x across cluster]\u001b[0m\n",
      "\u001b[2m\u001b[36m(_Trainable pid=7476)\u001b[0m d:\\IncomePredictor\\venv\\lib\\site-packages\\scikit_learn-1.2.2-py3.8-win-amd64.egg\\sklearn\\ensemble\\_gb.py:437: DataConversionWarning: A column-vector y was passed when a 1d array was expected. Please change the shape of y to (n_samples, ), for example using ravel().\u001b[32m [repeated 8x across cluster]\u001b[0m\n",
      "\u001b[2m\u001b[36m(_Trainable pid=7476)\u001b[0m   y = column_or_1d(y, warn=True)\u001b[32m [repeated 8x across cluster]\u001b[0m\n",
      "\u001b[2m\u001b[36m(_Trainable pid=3132)\u001b[0m d:\\IncomePredictor\\venv\\lib\\site-packages\\scikit_learn-1.2.2-py3.8-win-amd64.egg\\sklearn\\ensemble\\_gb.py:437: DataConversionWarning: A column-vector y was passed when a 1d array was expected. Please change the shape of y to (n_samples, ), for example using ravel().\u001b[32m [repeated 8x across cluster]\u001b[0m\n",
      "\u001b[2m\u001b[36m(_Trainable pid=3132)\u001b[0m   y = column_or_1d(y, warn=True)\u001b[32m [repeated 8x across cluster]\u001b[0m\n",
      "\u001b[2m\u001b[36m(_Trainable pid=7296)\u001b[0m d:\\IncomePredictor\\venv\\lib\\site-packages\\scikit_learn-1.2.2-py3.8-win-amd64.egg\\sklearn\\ensemble\\_gb.py:437: DataConversionWarning: A column-vector y was passed when a 1d array was expected. Please change the shape of y to (n_samples, ), for example using ravel().\u001b[32m [repeated 4x across cluster]\u001b[0m\n",
      "\u001b[2m\u001b[36m(_Trainable pid=7296)\u001b[0m   y = column_or_1d(y, warn=True)\u001b[32m [repeated 4x across cluster]\u001b[0m\n",
      "\u001b[2m\u001b[36m(_Trainable pid=10928)\u001b[0m d:\\IncomePredictor\\venv\\lib\\site-packages\\scikit_learn-1.2.2-py3.8-win-amd64.egg\\sklearn\\ensemble\\_gb.py:437: DataConversionWarning: A column-vector y was passed when a 1d array was expected. Please change the shape of y to (n_samples, ), for example using ravel().\u001b[32m [repeated 6x across cluster]\u001b[0m\n",
      "\u001b[2m\u001b[36m(_Trainable pid=10928)\u001b[0m   y = column_or_1d(y, warn=True)\u001b[32m [repeated 6x across cluster]\u001b[0m\n",
      "\u001b[2m\u001b[36m(_Trainable pid=9184)\u001b[0m d:\\IncomePredictor\\venv\\lib\\site-packages\\scikit_learn-1.2.2-py3.8-win-amd64.egg\\sklearn\\ensemble\\_gb.py:437: DataConversionWarning: A column-vector y was passed when a 1d array was expected. Please change the shape of y to (n_samples, ), for example using ravel().\u001b[32m [repeated 5x across cluster]\u001b[0m\n",
      "\u001b[2m\u001b[36m(_Trainable pid=9184)\u001b[0m   y = column_or_1d(y, warn=True)\u001b[32m [repeated 5x across cluster]\u001b[0m\n",
      "\u001b[2m\u001b[36m(_Trainable pid=10928)\u001b[0m d:\\IncomePredictor\\venv\\lib\\site-packages\\scikit_learn-1.2.2-py3.8-win-amd64.egg\\sklearn\\ensemble\\_gb.py:437: DataConversionWarning: A column-vector y was passed when a 1d array was expected. Please change the shape of y to (n_samples, ), for example using ravel().\u001b[32m [repeated 3x across cluster]\u001b[0m\n",
      "\u001b[2m\u001b[36m(_Trainable pid=10928)\u001b[0m   y = column_or_1d(y, warn=True)\u001b[32m [repeated 3x across cluster]\u001b[0m\n",
      "\u001b[2m\u001b[36m(_Trainable pid=7296)\u001b[0m d:\\IncomePredictor\\venv\\lib\\site-packages\\scikit_learn-1.2.2-py3.8-win-amd64.egg\\sklearn\\ensemble\\_gb.py:437: DataConversionWarning: A column-vector y was passed when a 1d array was expected. Please change the shape of y to (n_samples, ), for example using ravel().\u001b[32m [repeated 4x across cluster]\u001b[0m\n",
      "\u001b[2m\u001b[36m(_Trainable pid=7296)\u001b[0m   y = column_or_1d(y, warn=True)\u001b[32m [repeated 4x across cluster]\u001b[0m\n",
      "\u001b[2m\u001b[36m(_Trainable pid=3132)\u001b[0m d:\\IncomePredictor\\venv\\lib\\site-packages\\scikit_learn-1.2.2-py3.8-win-amd64.egg\\sklearn\\ensemble\\_gb.py:437: DataConversionWarning: A column-vector y was passed when a 1d array was expected. Please change the shape of y to (n_samples, ), for example using ravel().\u001b[32m [repeated 8x across cluster]\u001b[0m\n",
      "\u001b[2m\u001b[36m(_Trainable pid=3132)\u001b[0m   y = column_or_1d(y, warn=True)\u001b[32m [repeated 8x across cluster]\u001b[0m\n",
      "\u001b[2m\u001b[36m(_Trainable pid=11524)\u001b[0m d:\\IncomePredictor\\venv\\lib\\site-packages\\scikit_learn-1.2.2-py3.8-win-amd64.egg\\sklearn\\ensemble\\_gb.py:437: DataConversionWarning: A column-vector y was passed when a 1d array was expected. Please change the shape of y to (n_samples, ), for example using ravel().\u001b[32m [repeated 4x across cluster]\u001b[0m\n",
      "\u001b[2m\u001b[36m(_Trainable pid=11524)\u001b[0m   y = column_or_1d(y, warn=True)\u001b[32m [repeated 4x across cluster]\u001b[0m\n",
      "\u001b[2m\u001b[36m(_Trainable pid=7296)\u001b[0m d:\\IncomePredictor\\venv\\lib\\site-packages\\scikit_learn-1.2.2-py3.8-win-amd64.egg\\sklearn\\ensemble\\_gb.py:437: DataConversionWarning: A column-vector y was passed when a 1d array was expected. Please change the shape of y to (n_samples, ), for example using ravel().\u001b[32m [repeated 4x across cluster]\u001b[0m\n",
      "\u001b[2m\u001b[36m(_Trainable pid=7296)\u001b[0m   y = column_or_1d(y, warn=True)\u001b[32m [repeated 4x across cluster]\u001b[0m\n",
      "\u001b[2m\u001b[36m(_Trainable pid=10928)\u001b[0m d:\\IncomePredictor\\venv\\lib\\site-packages\\scikit_learn-1.2.2-py3.8-win-amd64.egg\\sklearn\\ensemble\\_gb.py:437: DataConversionWarning: A column-vector y was passed when a 1d array was expected. Please change the shape of y to (n_samples, ), for example using ravel().\u001b[32m [repeated 2x across cluster]\u001b[0m\n",
      "\u001b[2m\u001b[36m(_Trainable pid=10928)\u001b[0m   y = column_or_1d(y, warn=True)\u001b[32m [repeated 2x across cluster]\u001b[0m\n",
      "\u001b[2m\u001b[36m(_Trainable pid=7296)\u001b[0m d:\\IncomePredictor\\venv\\lib\\site-packages\\scikit_learn-1.2.2-py3.8-win-amd64.egg\\sklearn\\ensemble\\_gb.py:437: DataConversionWarning: A column-vector y was passed when a 1d array was expected. Please change the shape of y to (n_samples, ), for example using ravel().\u001b[32m [repeated 4x across cluster]\u001b[0m\n",
      "\u001b[2m\u001b[36m(_Trainable pid=7296)\u001b[0m   y = column_or_1d(y, warn=True)\u001b[32m [repeated 4x across cluster]\u001b[0m\n",
      "\u001b[2m\u001b[36m(_Trainable pid=10928)\u001b[0m d:\\IncomePredictor\\venv\\lib\\site-packages\\scikit_learn-1.2.2-py3.8-win-amd64.egg\\sklearn\\ensemble\\_gb.py:437: DataConversionWarning: A column-vector y was passed when a 1d array was expected. Please change the shape of y to (n_samples, ), for example using ravel().\u001b[32m [repeated 4x across cluster]\u001b[0m\n",
      "\u001b[2m\u001b[36m(_Trainable pid=10928)\u001b[0m   y = column_or_1d(y, warn=True)\u001b[32m [repeated 4x across cluster]\u001b[0m\n"
     ]
    }
   ],
   "source": [
    "res = tgcv.fit(X_train1, y_train1)"
   ]
  },
  {
   "cell_type": "code",
   "execution_count": 28,
   "metadata": {},
   "outputs": [
    {
     "data": {
      "text/html": [
       "<style>#sk-container-id-1 {color: black;background-color: white;}#sk-container-id-1 pre{padding: 0;}#sk-container-id-1 div.sk-toggleable {background-color: white;}#sk-container-id-1 label.sk-toggleable__label {cursor: pointer;display: block;width: 100%;margin-bottom: 0;padding: 0.3em;box-sizing: border-box;text-align: center;}#sk-container-id-1 label.sk-toggleable__label-arrow:before {content: \"▸\";float: left;margin-right: 0.25em;color: #696969;}#sk-container-id-1 label.sk-toggleable__label-arrow:hover:before {color: black;}#sk-container-id-1 div.sk-estimator:hover label.sk-toggleable__label-arrow:before {color: black;}#sk-container-id-1 div.sk-toggleable__content {max-height: 0;max-width: 0;overflow: hidden;text-align: left;background-color: #f0f8ff;}#sk-container-id-1 div.sk-toggleable__content pre {margin: 0.2em;color: black;border-radius: 0.25em;background-color: #f0f8ff;}#sk-container-id-1 input.sk-toggleable__control:checked~div.sk-toggleable__content {max-height: 200px;max-width: 100%;overflow: auto;}#sk-container-id-1 input.sk-toggleable__control:checked~label.sk-toggleable__label-arrow:before {content: \"▾\";}#sk-container-id-1 div.sk-estimator input.sk-toggleable__control:checked~label.sk-toggleable__label {background-color: #d4ebff;}#sk-container-id-1 div.sk-label input.sk-toggleable__control:checked~label.sk-toggleable__label {background-color: #d4ebff;}#sk-container-id-1 input.sk-hidden--visually {border: 0;clip: rect(1px 1px 1px 1px);clip: rect(1px, 1px, 1px, 1px);height: 1px;margin: -1px;overflow: hidden;padding: 0;position: absolute;width: 1px;}#sk-container-id-1 div.sk-estimator {font-family: monospace;background-color: #f0f8ff;border: 1px dotted black;border-radius: 0.25em;box-sizing: border-box;margin-bottom: 0.5em;}#sk-container-id-1 div.sk-estimator:hover {background-color: #d4ebff;}#sk-container-id-1 div.sk-parallel-item::after {content: \"\";width: 100%;border-bottom: 1px solid gray;flex-grow: 1;}#sk-container-id-1 div.sk-label:hover label.sk-toggleable__label {background-color: #d4ebff;}#sk-container-id-1 div.sk-serial::before {content: \"\";position: absolute;border-left: 1px solid gray;box-sizing: border-box;top: 0;bottom: 0;left: 50%;z-index: 0;}#sk-container-id-1 div.sk-serial {display: flex;flex-direction: column;align-items: center;background-color: white;padding-right: 0.2em;padding-left: 0.2em;position: relative;}#sk-container-id-1 div.sk-item {position: relative;z-index: 1;}#sk-container-id-1 div.sk-parallel {display: flex;align-items: stretch;justify-content: center;background-color: white;position: relative;}#sk-container-id-1 div.sk-item::before, #sk-container-id-1 div.sk-parallel-item::before {content: \"\";position: absolute;border-left: 1px solid gray;box-sizing: border-box;top: 0;bottom: 0;left: 50%;z-index: -1;}#sk-container-id-1 div.sk-parallel-item {display: flex;flex-direction: column;z-index: 1;position: relative;background-color: white;}#sk-container-id-1 div.sk-parallel-item:first-child::after {align-self: flex-end;width: 50%;}#sk-container-id-1 div.sk-parallel-item:last-child::after {align-self: flex-start;width: 50%;}#sk-container-id-1 div.sk-parallel-item:only-child::after {width: 0;}#sk-container-id-1 div.sk-dashed-wrapped {border: 1px dashed gray;margin: 0 0.4em 0.5em 0.4em;box-sizing: border-box;padding-bottom: 0.4em;background-color: white;}#sk-container-id-1 div.sk-label label {font-family: monospace;font-weight: bold;display: inline-block;line-height: 1.2em;}#sk-container-id-1 div.sk-label-container {text-align: center;}#sk-container-id-1 div.sk-container {/* jupyter's `normalize.less` sets `[hidden] { display: none; }` but bootstrap.min.css set `[hidden] { display: none !important; }` so we also need the `!important` here to be able to override the default hidden behavior on the sphinx rendered scikit-learn.org. See: https://github.com/scikit-learn/scikit-learn/issues/21755 */display: inline-block !important;position: relative;}#sk-container-id-1 div.sk-text-repr-fallback {display: none;}</style><div id=\"sk-container-id-1\" class=\"sk-top-container\"><div class=\"sk-text-repr-fallback\"><pre>GradientBoostingClassifier()</pre><b>In a Jupyter environment, please rerun this cell to show the HTML representation or trust the notebook. <br />On GitHub, the HTML representation is unable to render, please try loading this page with nbviewer.org.</b></div><div class=\"sk-container\" hidden><div class=\"sk-item\"><div class=\"sk-estimator sk-toggleable\"><input class=\"sk-toggleable__control sk-hidden--visually\" id=\"sk-estimator-id-1\" type=\"checkbox\" checked><label for=\"sk-estimator-id-1\" class=\"sk-toggleable__label sk-toggleable__label-arrow\">GradientBoostingClassifier</label><div class=\"sk-toggleable__content\"><pre>GradientBoostingClassifier()</pre></div></div></div></div></div>"
      ],
      "text/plain": [
       "GradientBoostingClassifier()"
      ]
     },
     "execution_count": 28,
     "metadata": {},
     "output_type": "execute_result"
    }
   ],
   "source": [
    "res.base_estimator"
   ]
  },
  {
   "cell_type": "code",
   "execution_count": 29,
   "metadata": {},
   "outputs": [
    {
     "data": {
      "text/plain": [
       "<ray.tune.analysis.experiment_analysis.ExperimentAnalysis at 0x1cfebb99d30>"
      ]
     },
     "execution_count": 29,
     "metadata": {},
     "output_type": "execute_result"
    }
   ],
   "source": [
    "res.analysis_"
   ]
  },
  {
   "cell_type": "code",
   "execution_count": 30,
   "metadata": {},
   "outputs": [
    {
     "data": {
      "text/plain": [
       "58"
      ]
     },
     "execution_count": 30,
     "metadata": {},
     "output_type": "execute_result"
    }
   ],
   "source": [
    "res.best_index_"
   ]
  },
  {
   "cell_type": "code",
   "execution_count": 32,
   "metadata": {},
   "outputs": [
    {
     "data": {
      "text/plain": [
       "0.8711745334796926"
      ]
     },
     "execution_count": 32,
     "metadata": {},
     "output_type": "execute_result"
    }
   ],
   "source": [
    "res.best_score_"
   ]
  },
  {
   "cell_type": "code",
   "execution_count": 33,
   "metadata": {},
   "outputs": [
    {
     "data": {
      "text/plain": [
       "{'params': [{'learning_rate': 0.1,\n",
       "   'max_depth': 3,\n",
       "   'min_samples_leaf': 1,\n",
       "   'min_samples_split': 2,\n",
       "   'n_estimators': 10},\n",
       "  {'learning_rate': 0.01,\n",
       "   'max_depth': 3,\n",
       "   'min_samples_leaf': 1,\n",
       "   'min_samples_split': 2,\n",
       "   'n_estimators': 10},\n",
       "  {'learning_rate': 0.1,\n",
       "   'max_depth': 4,\n",
       "   'min_samples_leaf': 1,\n",
       "   'min_samples_split': 2,\n",
       "   'n_estimators': 10},\n",
       "  {'learning_rate': 0.01,\n",
       "   'max_depth': 4,\n",
       "   'min_samples_leaf': 1,\n",
       "   'min_samples_split': 2,\n",
       "   'n_estimators': 10},\n",
       "  {'learning_rate': 0.1,\n",
       "   'max_depth': 5,\n",
       "   'min_samples_leaf': 1,\n",
       "   'min_samples_split': 2,\n",
       "   'n_estimators': 10},\n",
       "  {'learning_rate': 0.01,\n",
       "   'max_depth': 5,\n",
       "   'min_samples_leaf': 1,\n",
       "   'min_samples_split': 2,\n",
       "   'n_estimators': 10},\n",
       "  {'learning_rate': 0.1,\n",
       "   'max_depth': 3,\n",
       "   'min_samples_leaf': 2,\n",
       "   'min_samples_split': 2,\n",
       "   'n_estimators': 10},\n",
       "  {'learning_rate': 0.01,\n",
       "   'max_depth': 3,\n",
       "   'min_samples_leaf': 2,\n",
       "   'min_samples_split': 2,\n",
       "   'n_estimators': 10},\n",
       "  {'learning_rate': 0.1,\n",
       "   'max_depth': 4,\n",
       "   'min_samples_leaf': 2,\n",
       "   'min_samples_split': 2,\n",
       "   'n_estimators': 10},\n",
       "  {'learning_rate': 0.01,\n",
       "   'max_depth': 4,\n",
       "   'min_samples_leaf': 2,\n",
       "   'min_samples_split': 2,\n",
       "   'n_estimators': 10},\n",
       "  {'learning_rate': 0.1,\n",
       "   'max_depth': 5,\n",
       "   'min_samples_leaf': 2,\n",
       "   'min_samples_split': 2,\n",
       "   'n_estimators': 10},\n",
       "  {'learning_rate': 0.01,\n",
       "   'max_depth': 5,\n",
       "   'min_samples_leaf': 2,\n",
       "   'min_samples_split': 2,\n",
       "   'n_estimators': 10},\n",
       "  {'learning_rate': 0.1,\n",
       "   'max_depth': 3,\n",
       "   'min_samples_leaf': 1,\n",
       "   'min_samples_split': 3,\n",
       "   'n_estimators': 10},\n",
       "  {'learning_rate': 0.01,\n",
       "   'max_depth': 3,\n",
       "   'min_samples_leaf': 1,\n",
       "   'min_samples_split': 3,\n",
       "   'n_estimators': 10},\n",
       "  {'learning_rate': 0.1,\n",
       "   'max_depth': 4,\n",
       "   'min_samples_leaf': 1,\n",
       "   'min_samples_split': 3,\n",
       "   'n_estimators': 10},\n",
       "  {'learning_rate': 0.01,\n",
       "   'max_depth': 4,\n",
       "   'min_samples_leaf': 1,\n",
       "   'min_samples_split': 3,\n",
       "   'n_estimators': 10},\n",
       "  {'learning_rate': 0.1,\n",
       "   'max_depth': 5,\n",
       "   'min_samples_leaf': 1,\n",
       "   'min_samples_split': 3,\n",
       "   'n_estimators': 10},\n",
       "  {'learning_rate': 0.01,\n",
       "   'max_depth': 5,\n",
       "   'min_samples_leaf': 1,\n",
       "   'min_samples_split': 3,\n",
       "   'n_estimators': 10},\n",
       "  {'learning_rate': 0.1,\n",
       "   'max_depth': 3,\n",
       "   'min_samples_leaf': 2,\n",
       "   'min_samples_split': 3,\n",
       "   'n_estimators': 10},\n",
       "  {'learning_rate': 0.01,\n",
       "   'max_depth': 3,\n",
       "   'min_samples_leaf': 2,\n",
       "   'min_samples_split': 3,\n",
       "   'n_estimators': 10},\n",
       "  {'learning_rate': 0.1,\n",
       "   'max_depth': 4,\n",
       "   'min_samples_leaf': 2,\n",
       "   'min_samples_split': 3,\n",
       "   'n_estimators': 10},\n",
       "  {'learning_rate': 0.01,\n",
       "   'max_depth': 4,\n",
       "   'min_samples_leaf': 2,\n",
       "   'min_samples_split': 3,\n",
       "   'n_estimators': 10},\n",
       "  {'learning_rate': 0.1,\n",
       "   'max_depth': 5,\n",
       "   'min_samples_leaf': 2,\n",
       "   'min_samples_split': 3,\n",
       "   'n_estimators': 10},\n",
       "  {'learning_rate': 0.01,\n",
       "   'max_depth': 5,\n",
       "   'min_samples_leaf': 2,\n",
       "   'min_samples_split': 3,\n",
       "   'n_estimators': 10},\n",
       "  {'learning_rate': 0.1,\n",
       "   'max_depth': 3,\n",
       "   'min_samples_leaf': 1,\n",
       "   'min_samples_split': 2,\n",
       "   'n_estimators': 50},\n",
       "  {'learning_rate': 0.01,\n",
       "   'max_depth': 3,\n",
       "   'min_samples_leaf': 1,\n",
       "   'min_samples_split': 2,\n",
       "   'n_estimators': 50},\n",
       "  {'learning_rate': 0.1,\n",
       "   'max_depth': 4,\n",
       "   'min_samples_leaf': 1,\n",
       "   'min_samples_split': 2,\n",
       "   'n_estimators': 50},\n",
       "  {'learning_rate': 0.01,\n",
       "   'max_depth': 4,\n",
       "   'min_samples_leaf': 1,\n",
       "   'min_samples_split': 2,\n",
       "   'n_estimators': 50},\n",
       "  {'learning_rate': 0.1,\n",
       "   'max_depth': 5,\n",
       "   'min_samples_leaf': 1,\n",
       "   'min_samples_split': 2,\n",
       "   'n_estimators': 50},\n",
       "  {'learning_rate': 0.01,\n",
       "   'max_depth': 5,\n",
       "   'min_samples_leaf': 1,\n",
       "   'min_samples_split': 2,\n",
       "   'n_estimators': 50},\n",
       "  {'learning_rate': 0.1,\n",
       "   'max_depth': 3,\n",
       "   'min_samples_leaf': 2,\n",
       "   'min_samples_split': 2,\n",
       "   'n_estimators': 50},\n",
       "  {'learning_rate': 0.01,\n",
       "   'max_depth': 3,\n",
       "   'min_samples_leaf': 2,\n",
       "   'min_samples_split': 2,\n",
       "   'n_estimators': 50},\n",
       "  {'learning_rate': 0.1,\n",
       "   'max_depth': 4,\n",
       "   'min_samples_leaf': 2,\n",
       "   'min_samples_split': 2,\n",
       "   'n_estimators': 50},\n",
       "  {'learning_rate': 0.01,\n",
       "   'max_depth': 4,\n",
       "   'min_samples_leaf': 2,\n",
       "   'min_samples_split': 2,\n",
       "   'n_estimators': 50},\n",
       "  {'learning_rate': 0.1,\n",
       "   'max_depth': 5,\n",
       "   'min_samples_leaf': 2,\n",
       "   'min_samples_split': 2,\n",
       "   'n_estimators': 50},\n",
       "  {'learning_rate': 0.01,\n",
       "   'max_depth': 5,\n",
       "   'min_samples_leaf': 2,\n",
       "   'min_samples_split': 2,\n",
       "   'n_estimators': 50},\n",
       "  {'learning_rate': 0.1,\n",
       "   'max_depth': 3,\n",
       "   'min_samples_leaf': 1,\n",
       "   'min_samples_split': 3,\n",
       "   'n_estimators': 50},\n",
       "  {'learning_rate': 0.01,\n",
       "   'max_depth': 3,\n",
       "   'min_samples_leaf': 1,\n",
       "   'min_samples_split': 3,\n",
       "   'n_estimators': 50},\n",
       "  {'learning_rate': 0.1,\n",
       "   'max_depth': 4,\n",
       "   'min_samples_leaf': 1,\n",
       "   'min_samples_split': 3,\n",
       "   'n_estimators': 50},\n",
       "  {'learning_rate': 0.01,\n",
       "   'max_depth': 4,\n",
       "   'min_samples_leaf': 1,\n",
       "   'min_samples_split': 3,\n",
       "   'n_estimators': 50},\n",
       "  {'learning_rate': 0.1,\n",
       "   'max_depth': 5,\n",
       "   'min_samples_leaf': 1,\n",
       "   'min_samples_split': 3,\n",
       "   'n_estimators': 50},\n",
       "  {'learning_rate': 0.01,\n",
       "   'max_depth': 5,\n",
       "   'min_samples_leaf': 1,\n",
       "   'min_samples_split': 3,\n",
       "   'n_estimators': 50},\n",
       "  {'learning_rate': 0.1,\n",
       "   'max_depth': 3,\n",
       "   'min_samples_leaf': 2,\n",
       "   'min_samples_split': 3,\n",
       "   'n_estimators': 50},\n",
       "  {'learning_rate': 0.01,\n",
       "   'max_depth': 3,\n",
       "   'min_samples_leaf': 2,\n",
       "   'min_samples_split': 3,\n",
       "   'n_estimators': 50},\n",
       "  {'learning_rate': 0.1,\n",
       "   'max_depth': 4,\n",
       "   'min_samples_leaf': 2,\n",
       "   'min_samples_split': 3,\n",
       "   'n_estimators': 50},\n",
       "  {'learning_rate': 0.01,\n",
       "   'max_depth': 4,\n",
       "   'min_samples_leaf': 2,\n",
       "   'min_samples_split': 3,\n",
       "   'n_estimators': 50},\n",
       "  {'learning_rate': 0.1,\n",
       "   'max_depth': 5,\n",
       "   'min_samples_leaf': 2,\n",
       "   'min_samples_split': 3,\n",
       "   'n_estimators': 50},\n",
       "  {'learning_rate': 0.01,\n",
       "   'max_depth': 5,\n",
       "   'min_samples_leaf': 2,\n",
       "   'min_samples_split': 3,\n",
       "   'n_estimators': 50},\n",
       "  {'learning_rate': 0.1,\n",
       "   'max_depth': 3,\n",
       "   'min_samples_leaf': 1,\n",
       "   'min_samples_split': 2,\n",
       "   'n_estimators': 100},\n",
       "  {'learning_rate': 0.01,\n",
       "   'max_depth': 3,\n",
       "   'min_samples_leaf': 1,\n",
       "   'min_samples_split': 2,\n",
       "   'n_estimators': 100},\n",
       "  {'learning_rate': 0.1,\n",
       "   'max_depth': 4,\n",
       "   'min_samples_leaf': 1,\n",
       "   'min_samples_split': 2,\n",
       "   'n_estimators': 100},\n",
       "  {'learning_rate': 0.01,\n",
       "   'max_depth': 4,\n",
       "   'min_samples_leaf': 1,\n",
       "   'min_samples_split': 2,\n",
       "   'n_estimators': 100},\n",
       "  {'learning_rate': 0.1,\n",
       "   'max_depth': 5,\n",
       "   'min_samples_leaf': 1,\n",
       "   'min_samples_split': 2,\n",
       "   'n_estimators': 100},\n",
       "  {'learning_rate': 0.01,\n",
       "   'max_depth': 5,\n",
       "   'min_samples_leaf': 1,\n",
       "   'min_samples_split': 2,\n",
       "   'n_estimators': 100},\n",
       "  {'learning_rate': 0.1,\n",
       "   'max_depth': 3,\n",
       "   'min_samples_leaf': 2,\n",
       "   'min_samples_split': 2,\n",
       "   'n_estimators': 100},\n",
       "  {'learning_rate': 0.01,\n",
       "   'max_depth': 3,\n",
       "   'min_samples_leaf': 2,\n",
       "   'min_samples_split': 2,\n",
       "   'n_estimators': 100},\n",
       "  {'learning_rate': 0.1,\n",
       "   'max_depth': 4,\n",
       "   'min_samples_leaf': 2,\n",
       "   'min_samples_split': 2,\n",
       "   'n_estimators': 100},\n",
       "  {'learning_rate': 0.01,\n",
       "   'max_depth': 4,\n",
       "   'min_samples_leaf': 2,\n",
       "   'min_samples_split': 2,\n",
       "   'n_estimators': 100},\n",
       "  {'learning_rate': 0.1,\n",
       "   'max_depth': 5,\n",
       "   'min_samples_leaf': 2,\n",
       "   'min_samples_split': 2,\n",
       "   'n_estimators': 100},\n",
       "  {'learning_rate': 0.01,\n",
       "   'max_depth': 5,\n",
       "   'min_samples_leaf': 2,\n",
       "   'min_samples_split': 2,\n",
       "   'n_estimators': 100},\n",
       "  {'learning_rate': 0.1,\n",
       "   'max_depth': 3,\n",
       "   'min_samples_leaf': 1,\n",
       "   'min_samples_split': 3,\n",
       "   'n_estimators': 100},\n",
       "  {'learning_rate': 0.01,\n",
       "   'max_depth': 3,\n",
       "   'min_samples_leaf': 1,\n",
       "   'min_samples_split': 3,\n",
       "   'n_estimators': 100},\n",
       "  {'learning_rate': 0.1,\n",
       "   'max_depth': 4,\n",
       "   'min_samples_leaf': 1,\n",
       "   'min_samples_split': 3,\n",
       "   'n_estimators': 100},\n",
       "  {'learning_rate': 0.01,\n",
       "   'max_depth': 4,\n",
       "   'min_samples_leaf': 1,\n",
       "   'min_samples_split': 3,\n",
       "   'n_estimators': 100},\n",
       "  {'learning_rate': 0.1,\n",
       "   'max_depth': 5,\n",
       "   'min_samples_leaf': 1,\n",
       "   'min_samples_split': 3,\n",
       "   'n_estimators': 100},\n",
       "  {'learning_rate': 0.01,\n",
       "   'max_depth': 5,\n",
       "   'min_samples_leaf': 1,\n",
       "   'min_samples_split': 3,\n",
       "   'n_estimators': 100},\n",
       "  {'learning_rate': 0.1,\n",
       "   'max_depth': 3,\n",
       "   'min_samples_leaf': 2,\n",
       "   'min_samples_split': 3,\n",
       "   'n_estimators': 100},\n",
       "  {'learning_rate': 0.01,\n",
       "   'max_depth': 3,\n",
       "   'min_samples_leaf': 2,\n",
       "   'min_samples_split': 3,\n",
       "   'n_estimators': 100},\n",
       "  {'learning_rate': 0.1,\n",
       "   'max_depth': 4,\n",
       "   'min_samples_leaf': 2,\n",
       "   'min_samples_split': 3,\n",
       "   'n_estimators': 100},\n",
       "  {'learning_rate': 0.01,\n",
       "   'max_depth': 4,\n",
       "   'min_samples_leaf': 2,\n",
       "   'min_samples_split': 3,\n",
       "   'n_estimators': 100},\n",
       "  {'learning_rate': 0.1,\n",
       "   'max_depth': 5,\n",
       "   'min_samples_leaf': 2,\n",
       "   'min_samples_split': 3,\n",
       "   'n_estimators': 100},\n",
       "  {'learning_rate': 0.01,\n",
       "   'max_depth': 5,\n",
       "   'min_samples_leaf': 2,\n",
       "   'min_samples_split': 3,\n",
       "   'n_estimators': 100}],\n",
       " 'split0_test_score': array([0.8118551 , 0.76026345, 0.85378705, 0.76026345, 0.8557629 ,\n",
       "        0.76026345, 0.8118551 , 0.76026345, 0.85378705, 0.76026345,\n",
       "        0.8557629 , 0.76026345, 0.8118551 , 0.76026345, 0.85378705,\n",
       "        0.76026345, 0.8557629 , 0.76026345, 0.8118551 , 0.76026345,\n",
       "        0.85378705, 0.76026345, 0.8557629 , 0.76026345, 0.86432492,\n",
       "        0.80087816, 0.86915477, 0.80724479, 0.87310648, 0.8079034 ,\n",
       "        0.86388584, 0.80087816, 0.87025247, 0.80702525, 0.87552141,\n",
       "        0.80768386, 0.86432492, 0.80087816, 0.86915477, 0.80724479,\n",
       "        0.87486279, 0.8079034 , 0.86388584, 0.80087816, 0.87003293,\n",
       "        0.80702525, 0.87376509, 0.80768386, 0.87200878, 0.81141603,\n",
       "        0.87771679, 0.81163557, 0.87771679, 0.83907794, 0.87178924,\n",
       "        0.81141603, 0.87705818, 0.81163557, 0.87903403, 0.8388584 ,\n",
       "        0.87200878, 0.81141603, 0.87815587, 0.81163557, 0.87947311,\n",
       "        0.83907794, 0.87178924, 0.81141603, 0.87705818, 0.81163557,\n",
       "        0.87925357, 0.8388584 ]),\n",
       " 'split1_test_score': array([0.84456641, 0.76026345, 0.84500549, 0.76026345, 0.85422613,\n",
       "        0.76026345, 0.84456641, 0.76026345, 0.84500549, 0.76026345,\n",
       "        0.85356751, 0.76026345, 0.84456641, 0.76026345, 0.84500549,\n",
       "        0.76026345, 0.85422613, 0.76026345, 0.84456641, 0.76026345,\n",
       "        0.84500549, 0.76026345, 0.85334797, 0.76026345, 0.85708013,\n",
       "        0.80768386, 0.86410538, 0.80768386, 0.86673985, 0.81953897,\n",
       "        0.85905598, 0.80592755, 0.86300768, 0.80658617, 0.86432492,\n",
       "        0.81822173, 0.85708013, 0.80768386, 0.86410538, 0.80768386,\n",
       "        0.86652031, 0.81953897, 0.85905598, 0.80592755, 0.86300768,\n",
       "        0.80658617, 0.86432492, 0.81822173, 0.864764  , 0.84456641,\n",
       "        0.86981339, 0.84412733, 0.86937431, 0.85334797, 0.86432492,\n",
       "        0.84456641, 0.86937431, 0.84390779, 0.8715697 , 0.85290889,\n",
       "        0.864764  , 0.84456641, 0.87091109, 0.84412733, 0.87025247,\n",
       "        0.85356751, 0.86432492, 0.84456641, 0.86937431, 0.84390779,\n",
       "        0.8715697 , 0.85290889]),\n",
       " 'split2_test_score': array([0.84588364, 0.76026345, 0.8478595 , 0.76026345, 0.85290889,\n",
       "        0.76026345, 0.84588364, 0.76026345, 0.84807903, 0.76026345,\n",
       "        0.85312843, 0.76026345, 0.84588364, 0.76026345, 0.8478595 ,\n",
       "        0.76026345, 0.85356751, 0.76026345, 0.84588364, 0.76026345,\n",
       "        0.84807903, 0.76026345, 0.85312843, 0.76026345, 0.85642151,\n",
       "        0.80724479, 0.86015368, 0.80724479, 0.86256861, 0.81339188,\n",
       "        0.85642151, 0.80724479, 0.86015368, 0.80614709, 0.86454446,\n",
       "        0.81339188, 0.85642151, 0.80724479, 0.86015368, 0.80724479,\n",
       "        0.86300768, 0.81339188, 0.85642151, 0.80724479, 0.86015368,\n",
       "        0.80614709, 0.86388584, 0.81339188, 0.86037322, 0.84588364,\n",
       "        0.86542261, 0.84500549, 0.86322722, 0.85225027, 0.85993414,\n",
       "        0.84588364, 0.86432492, 0.84522503, 0.8636663 , 0.85246981,\n",
       "        0.86037322, 0.84588364, 0.86542261, 0.84500549, 0.86410538,\n",
       "        0.85225027, 0.85993414, 0.84588364, 0.86410538, 0.84522503,\n",
       "        0.86256861, 0.85225027]),\n",
       " 'split3_test_score': array([0.8417124 , 0.76026345, 0.84500549, 0.76026345, 0.85356751,\n",
       "        0.76026345, 0.8417124 , 0.76026345, 0.84500549, 0.76026345,\n",
       "        0.85400659, 0.76026345, 0.8417124 , 0.76026345, 0.84500549,\n",
       "        0.76026345, 0.85356751, 0.76026345, 0.8417124 , 0.76026345,\n",
       "        0.84500549, 0.76026345, 0.85400659, 0.76026345, 0.86037322,\n",
       "        0.80526894, 0.8636663 , 0.80351262, 0.86783754, 0.81383095,\n",
       "        0.86103183, 0.80526894, 0.86432492, 0.80373216, 0.86673985,\n",
       "        0.81448957, 0.86037322, 0.80526894, 0.8636663 , 0.80351262,\n",
       "        0.86783754, 0.81383095, 0.86103183, 0.80526894, 0.86432492,\n",
       "        0.80373216, 0.86673985, 0.81448957, 0.86783754, 0.84500549,\n",
       "        0.86937431, 0.84346872, 0.87047201, 0.85137212, 0.867618  ,\n",
       "        0.84500549, 0.86959385, 0.84346872, 0.87003293, 0.85246981,\n",
       "        0.86783754, 0.84500549, 0.86849616, 0.84346872, 0.87113063,\n",
       "        0.85137212, 0.867618  , 0.84500549, 0.86959385, 0.84346872,\n",
       "        0.87003293, 0.85246981]),\n",
       " 'split4_test_score': array([0.84412733, 0.76026345, 0.84632272, 0.76026345, 0.85115258,\n",
       "        0.76026345, 0.84412733, 0.76026345, 0.84588364, 0.76026345,\n",
       "        0.85093304, 0.76026345, 0.84412733, 0.76026345, 0.84632272,\n",
       "        0.76026345, 0.85137212, 0.76026345, 0.84412733, 0.76026345,\n",
       "        0.84588364, 0.76026345, 0.85093304, 0.76026345, 0.85883644,\n",
       "        0.80526894, 0.86169045, 0.8039517 , 0.86564215, 0.81536773,\n",
       "        0.85883644, 0.8050494 , 0.86234907, 0.8039517 , 0.86783754,\n",
       "        0.81448957, 0.85883644, 0.80526894, 0.86278814, 0.8039517 ,\n",
       "        0.86586169, 0.81536773, 0.85883644, 0.8050494 , 0.86234907,\n",
       "        0.8039517 , 0.86805708, 0.81448957, 0.86322722, 0.84105379,\n",
       "        0.867618  , 0.84083425, 0.86893524, 0.84961581, 0.8636663 ,\n",
       "        0.84105379, 0.8687157 , 0.84083425, 0.8715697 , 0.84917673,\n",
       "        0.86278814, 0.84105379, 0.86849616, 0.84083425, 0.8687157 ,\n",
       "        0.84961581, 0.8636663 , 0.84105379, 0.8687157 , 0.84083425,\n",
       "        0.8715697 , 0.84917673]),\n",
       " 'mean_test_score': array([0.83762898, 0.76026345, 0.84759605, 0.76026345, 0.8535236 ,\n",
       "        0.76026345, 0.83762898, 0.76026345, 0.84755214, 0.76026345,\n",
       "        0.85347969, 0.76026345, 0.83762898, 0.76026345, 0.84759605,\n",
       "        0.76026345, 0.85369923, 0.76026345, 0.83762898, 0.76026345,\n",
       "        0.84755214, 0.76026345, 0.85343578, 0.76026345, 0.85940724,\n",
       "        0.80526894, 0.86375412, 0.80592755, 0.86717892, 0.81400659,\n",
       "        0.85984632, 0.80487377, 0.86401756, 0.80548847, 0.86779363,\n",
       "        0.81365532, 0.85940724, 0.80526894, 0.86397366, 0.80592755,\n",
       "        0.867618  , 0.81400659, 0.85984632, 0.80487377, 0.86397366,\n",
       "        0.80548847, 0.86735456, 0.81365532, 0.86564215, 0.83758507,\n",
       "        0.86998902, 0.83701427, 0.86994512, 0.84913282, 0.86546652,\n",
       "        0.83758507, 0.86981339, 0.83701427, 0.87117453, 0.84917673,\n",
       "        0.86555434, 0.83758507, 0.87029638, 0.83701427, 0.87073546,\n",
       "        0.84917673, 0.86546652, 0.83758507, 0.86976948, 0.83701427,\n",
       "        0.8709989 , 0.84913282]),\n",
       " 'std_test_score': array([0.01295734, 0.        , 0.00326929, 0.        , 0.0015172 ,\n",
       "        0.        , 0.01295734, 0.        , 0.0033138 , 0.        ,\n",
       "        0.0015561 , 0.        , 0.01295734, 0.        , 0.00326929,\n",
       "        0.        , 0.00141326, 0.        , 0.01295734, 0.        ,\n",
       "        0.0033138 , 0.        , 0.0015561 , 0.        , 0.00282037,\n",
       "        0.00240893, 0.00305025, 0.00180503, 0.00344613, 0.0037448 ,\n",
       "        0.00249387, 0.00213935, 0.00339711, 0.00137453, 0.0040846 ,\n",
       "        0.00340505, 0.00282037, 0.00240893, 0.00293099, 0.00180503,\n",
       "        0.0039517 , 0.0037448 , 0.00249387, 0.00213935, 0.00331671,\n",
       "        0.00137453, 0.00355463, 0.00340505, 0.00399295, 0.01318726,\n",
       "        0.00416175, 0.01276547, 0.00462931, 0.00517367, 0.00399392,\n",
       "        0.01318726, 0.00410015, 0.01276924, 0.00489409, 0.00533078,\n",
       "        0.00404953, 0.01318726, 0.00429848, 0.01276547, 0.00499546,\n",
       "        0.00521006, 0.00399392, 0.01318726, 0.00415944, 0.01276924,\n",
       "        0.00530649, 0.00530431]),\n",
       " 'rank_test_score': array([37, 61, 33, 61, 26, 61, 37, 61, 35, 61, 27, 61, 37, 61, 33, 61, 25,\n",
       "        61, 37, 61, 35, 61, 28, 61, 23, 57, 20, 53, 12, 49, 21, 59, 17, 55,\n",
       "         9, 51, 23, 57, 18, 53, 10, 49, 21, 59, 18, 55, 11, 51, 13, 41,  5,\n",
       "        45,  6, 31, 15, 41,  7, 45,  1, 29, 14, 41,  4, 45,  3, 29, 15, 41,\n",
       "         8, 45,  2, 31]),\n",
       " 'time_total_s': array([ 4.2086761 ,  4.25581169,  6.25512648,  5.60493565,  7.75927949,\n",
       "         7.4770174 ,  4.56302261,  4.38125205,  5.67280912,  5.88179874,\n",
       "         7.55129337,  7.30681562,  4.64113498,  4.59305215,  5.45367694,\n",
       "         5.28790545,  7.04534388,  7.23715329,  4.68998551,  4.63566089,\n",
       "         5.79269147,  5.75767636,  6.93751907,  7.40147233, 20.46207571,\n",
       "        19.94575286, 26.75407434, 25.60083365, 32.2036097 , 31.9879961 ,\n",
       "        19.42964506, 19.44804716, 27.76216698, 27.60422087, 33.10582161,\n",
       "        33.8956337 , 21.36986375, 20.67773557, 26.63866234, 25.89298058,\n",
       "        32.79965615, 31.72958732, 20.02763915, 19.84621334, 25.45107651,\n",
       "        25.35910082, 31.89436674, 31.95803952, 38.75227594, 39.44774437,\n",
       "        51.84085393, 52.15647221, 64.6121521 , 63.09122491, 39.28429246,\n",
       "        39.25334597, 51.25102615, 51.18733835, 63.70273733, 63.26101995,\n",
       "        39.90785551, 39.30984592, 51.65052032, 52.35409665, 62.93578076,\n",
       "        62.03154039, 39.98465991, 39.98842216, 41.68703151, 41.25899029,\n",
       "        46.62142158, 45.55156493]),\n",
       " 'training_iteration': array([1, 1, 1, 1, 1, 1, 1, 1, 1, 1, 1, 1, 1, 1, 1, 1, 1, 1, 1, 1, 1, 1,\n",
       "        1, 1, 1, 1, 1, 1, 1, 1, 1, 1, 1, 1, 1, 1, 1, 1, 1, 1, 1, 1, 1, 1,\n",
       "        1, 1, 1, 1, 1, 1, 1, 1, 1, 1, 1, 1, 1, 1, 1, 1, 1, 1, 1, 1, 1, 1,\n",
       "        1, 1, 1, 1, 1, 1], dtype=int64),\n",
       " 'param_learning_rate': masked_array(data=[0.1, 0.01, 0.1, 0.01, 0.1, 0.01, 0.1, 0.01, 0.1, 0.01,\n",
       "                    0.1, 0.01, 0.1, 0.01, 0.1, 0.01, 0.1, 0.01, 0.1, 0.01,\n",
       "                    0.1, 0.01, 0.1, 0.01, 0.1, 0.01, 0.1, 0.01, 0.1, 0.01,\n",
       "                    0.1, 0.01, 0.1, 0.01, 0.1, 0.01, 0.1, 0.01, 0.1, 0.01,\n",
       "                    0.1, 0.01, 0.1, 0.01, 0.1, 0.01, 0.1, 0.01, 0.1, 0.01,\n",
       "                    0.1, 0.01, 0.1, 0.01, 0.1, 0.01, 0.1, 0.01, 0.1, 0.01,\n",
       "                    0.1, 0.01, 0.1, 0.01, 0.1, 0.01, 0.1, 0.01, 0.1, 0.01,\n",
       "                    0.1, 0.01],\n",
       "              mask=[False, False, False, False, False, False, False, False,\n",
       "                    False, False, False, False, False, False, False, False,\n",
       "                    False, False, False, False, False, False, False, False,\n",
       "                    False, False, False, False, False, False, False, False,\n",
       "                    False, False, False, False, False, False, False, False,\n",
       "                    False, False, False, False, False, False, False, False,\n",
       "                    False, False, False, False, False, False, False, False,\n",
       "                    False, False, False, False, False, False, False, False,\n",
       "                    False, False, False, False, False, False, False, False],\n",
       "        fill_value='?',\n",
       "             dtype=object),\n",
       " 'param_max_depth': masked_array(data=[3, 3, 4, 4, 5, 5, 3, 3, 4, 4, 5, 5, 3, 3, 4, 4, 5, 5,\n",
       "                    3, 3, 4, 4, 5, 5, 3, 3, 4, 4, 5, 5, 3, 3, 4, 4, 5, 5,\n",
       "                    3, 3, 4, 4, 5, 5, 3, 3, 4, 4, 5, 5, 3, 3, 4, 4, 5, 5,\n",
       "                    3, 3, 4, 4, 5, 5, 3, 3, 4, 4, 5, 5, 3, 3, 4, 4, 5, 5],\n",
       "              mask=[False, False, False, False, False, False, False, False,\n",
       "                    False, False, False, False, False, False, False, False,\n",
       "                    False, False, False, False, False, False, False, False,\n",
       "                    False, False, False, False, False, False, False, False,\n",
       "                    False, False, False, False, False, False, False, False,\n",
       "                    False, False, False, False, False, False, False, False,\n",
       "                    False, False, False, False, False, False, False, False,\n",
       "                    False, False, False, False, False, False, False, False,\n",
       "                    False, False, False, False, False, False, False, False],\n",
       "        fill_value='?',\n",
       "             dtype=object),\n",
       " 'param_min_samples_leaf': masked_array(data=[1, 1, 1, 1, 1, 1, 2, 2, 2, 2, 2, 2, 1, 1, 1, 1, 1, 1,\n",
       "                    2, 2, 2, 2, 2, 2, 1, 1, 1, 1, 1, 1, 2, 2, 2, 2, 2, 2,\n",
       "                    1, 1, 1, 1, 1, 1, 2, 2, 2, 2, 2, 2, 1, 1, 1, 1, 1, 1,\n",
       "                    2, 2, 2, 2, 2, 2, 1, 1, 1, 1, 1, 1, 2, 2, 2, 2, 2, 2],\n",
       "              mask=[False, False, False, False, False, False, False, False,\n",
       "                    False, False, False, False, False, False, False, False,\n",
       "                    False, False, False, False, False, False, False, False,\n",
       "                    False, False, False, False, False, False, False, False,\n",
       "                    False, False, False, False, False, False, False, False,\n",
       "                    False, False, False, False, False, False, False, False,\n",
       "                    False, False, False, False, False, False, False, False,\n",
       "                    False, False, False, False, False, False, False, False,\n",
       "                    False, False, False, False, False, False, False, False],\n",
       "        fill_value='?',\n",
       "             dtype=object),\n",
       " 'param_min_samples_split': masked_array(data=[2, 2, 2, 2, 2, 2, 2, 2, 2, 2, 2, 2, 3, 3, 3, 3, 3, 3,\n",
       "                    3, 3, 3, 3, 3, 3, 2, 2, 2, 2, 2, 2, 2, 2, 2, 2, 2, 2,\n",
       "                    3, 3, 3, 3, 3, 3, 3, 3, 3, 3, 3, 3, 2, 2, 2, 2, 2, 2,\n",
       "                    2, 2, 2, 2, 2, 2, 3, 3, 3, 3, 3, 3, 3, 3, 3, 3, 3, 3],\n",
       "              mask=[False, False, False, False, False, False, False, False,\n",
       "                    False, False, False, False, False, False, False, False,\n",
       "                    False, False, False, False, False, False, False, False,\n",
       "                    False, False, False, False, False, False, False, False,\n",
       "                    False, False, False, False, False, False, False, False,\n",
       "                    False, False, False, False, False, False, False, False,\n",
       "                    False, False, False, False, False, False, False, False,\n",
       "                    False, False, False, False, False, False, False, False,\n",
       "                    False, False, False, False, False, False, False, False],\n",
       "        fill_value='?',\n",
       "             dtype=object),\n",
       " 'param_n_estimators': masked_array(data=[10, 10, 10, 10, 10, 10, 10, 10, 10, 10, 10, 10, 10, 10,\n",
       "                    10, 10, 10, 10, 10, 10, 10, 10, 10, 10, 50, 50, 50, 50,\n",
       "                    50, 50, 50, 50, 50, 50, 50, 50, 50, 50, 50, 50, 50, 50,\n",
       "                    50, 50, 50, 50, 50, 50, 100, 100, 100, 100, 100, 100,\n",
       "                    100, 100, 100, 100, 100, 100, 100, 100, 100, 100, 100,\n",
       "                    100, 100, 100, 100, 100, 100, 100],\n",
       "              mask=[False, False, False, False, False, False, False, False,\n",
       "                    False, False, False, False, False, False, False, False,\n",
       "                    False, False, False, False, False, False, False, False,\n",
       "                    False, False, False, False, False, False, False, False,\n",
       "                    False, False, False, False, False, False, False, False,\n",
       "                    False, False, False, False, False, False, False, False,\n",
       "                    False, False, False, False, False, False, False, False,\n",
       "                    False, False, False, False, False, False, False, False,\n",
       "                    False, False, False, False, False, False, False, False],\n",
       "        fill_value='?',\n",
       "             dtype=object)}"
      ]
     },
     "execution_count": 33,
     "metadata": {},
     "output_type": "execute_result"
    }
   ],
   "source": [
    "res.cv_results_"
   ]
  },
  {
   "cell_type": "code",
   "execution_count": 31,
   "metadata": {},
   "outputs": [
    {
     "data": {
      "text/plain": [
       "{'learning_rate': 0.1,\n",
       " 'max_depth': 5,\n",
       " 'min_samples_leaf': 2,\n",
       " 'min_samples_split': 2,\n",
       " 'n_estimators': 100}"
      ]
     },
     "execution_count": 31,
     "metadata": {},
     "output_type": "execute_result"
    }
   ],
   "source": [
    "res.best_params_"
   ]
  },
  {
   "attachments": {},
   "cell_type": "markdown",
   "metadata": {},
   "source": [
    "### **ROC_curve**"
   ]
  },
  {
   "cell_type": "code",
   "execution_count": 34,
   "metadata": {},
   "outputs": [],
   "source": [
    "from sklearn.metrics import roc_curve, roc_auc_score"
   ]
  },
  {
   "cell_type": "code",
   "execution_count": 35,
   "metadata": {},
   "outputs": [],
   "source": [
    "gd.fit(X_train1,y_train1)\n",
    "pred_prob = gd.predict_proba(X_test1)"
   ]
  },
  {
   "cell_type": "code",
   "execution_count": null,
   "metadata": {},
   "outputs": [],
   "source": [
    "pred_prob"
   ]
  },
  {
   "cell_type": "code",
   "execution_count": 37,
   "metadata": {},
   "outputs": [],
   "source": [
    "fpr, tpr, thresholds = roc_curve(y_test1,pred_prob[:,1] ,pos_label=1)\n",
    "auc_score = roc_auc_score(y_test1,pred_prob[:,1])"
   ]
  },
  {
   "cell_type": "code",
   "execution_count": 40,
   "metadata": {},
   "outputs": [],
   "source": [
    "# roc curve for tpr = fpr \n",
    "random_probs = [0 for i in range(len(y_test1))]\n",
    "p_fpr, p_tpr, _ = roc_curve(y_test1, random_probs, pos_label=1)"
   ]
  },
  {
   "cell_type": "code",
   "execution_count": 38,
   "metadata": {},
   "outputs": [
    {
     "data": {
      "text/plain": [
       "0.9242777777493107"
      ]
     },
     "execution_count": 38,
     "metadata": {},
     "output_type": "execute_result"
    }
   ],
   "source": [
    "auc_score"
   ]
  },
  {
   "cell_type": "code",
   "execution_count": 43,
   "metadata": {},
   "outputs": [
    {
     "data": {
      "image/png": "[encoded data removed]",
      "text/plain": [
       "<Figure size 640x480 with 1 Axes>"
      ]
     },
     "metadata": {},
     "output_type": "display_data"
    }
   ],
   "source": [
    "import matplotlib.pyplot as plt\n",
    "plt.plot(fpr, tpr,linestyle='--',color='orange')\n",
    "plt.plot(p_fpr, p_tpr, linestyle='--', color='blue')\n",
    "plt.title('ROC curve')\n",
    "plt.xlabel('False Positive Rate')\n",
    "plt.ylabel('True Positive rate')\n",
    "plt.show()"
   ]
  }
 ],
 "metadata": {
  "kernelspec": {
   "display_name": "Python 3",
   "language": "python",
   "name": "python3"
  },
  "language_info": {
   "codemirror_mode": {
    "name": "ipython",
    "version": 3
   },
   "file_extension": ".py",
   "mimetype": "text/x-python",
   "name": "python",
   "nbconvert_exporter": "python",
   "pygments_lexer": "ipython3",
   "version": "3.8.16"
  },
  "orig_nbformat": 4
 },
 "nbformat": 4,
 "nbformat_minor": 2
}
